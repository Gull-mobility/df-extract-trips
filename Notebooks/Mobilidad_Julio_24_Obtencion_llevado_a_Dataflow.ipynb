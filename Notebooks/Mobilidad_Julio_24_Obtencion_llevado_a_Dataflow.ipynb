{
  "nbformat": 4,
  "nbformat_minor": 0,
  "metadata": {
    "colab": {
      "name": "Mobilidad Julio 24 - Obtencion llevado a Dataflow",
      "provenance": [],
      "collapsed_sections": []
    },
    "kernelspec": {
      "name": "python3",
      "display_name": "Python 3"
    },
    "language_info": {
      "name": "python"
    }
  },
  "cells": [
    {
      "cell_type": "markdown",
      "source": [
        "Import patra trabajar con GCP"
      ],
      "metadata": {
        "id": "44GOyT_-01Qy"
      }
    },
    {
      "cell_type": "code",
      "source": [
        "pip install apache-beam[gcp]"
      ],
      "metadata": {
        "colab": {
          "base_uri": "https://localhost:8080/",
          "height": 1000
        },
        "id": "4n6-5Wvr1vbe",
        "outputId": "0c2c4051-8aea-41eb-a611-ecdc5c614be0"
      },
      "execution_count": null,
      "outputs": [
        {
          "output_type": "stream",
          "name": "stdout",
          "text": [
            "Looking in indexes: https://pypi.org/simple, https://us-python.pkg.dev/colab-wheels/public/simple/\n",
            "Collecting apache-beam[gcp]\n",
            "  Downloading apache_beam-2.40.0-cp37-cp37m-manylinux2010_x86_64.whl (10.9 MB)\n",
            "\u001b[K     |████████████████████████████████| 10.9 MB 2.6 MB/s \n",
            "\u001b[?25hRequirement already satisfied: crcmod<2.0,>=1.7 in /usr/local/lib/python3.7/dist-packages (from apache-beam[gcp]) (1.7)\n",
            "Collecting fastavro<2,>=0.23.6\n",
            "  Downloading fastavro-1.5.4-cp37-cp37m-manylinux_2_17_x86_64.manylinux2014_x86_64.whl (2.4 MB)\n",
            "\u001b[K     |████████████████████████████████| 2.4 MB 41.2 MB/s \n",
            "\u001b[?25hRequirement already satisfied: grpcio<2,>=1.33.1 in /usr/local/lib/python3.7/dist-packages (from apache-beam[gcp]) (1.47.0)\n",
            "Requirement already satisfied: httplib2<0.21.0,>=0.8 in /usr/local/lib/python3.7/dist-packages (from apache-beam[gcp]) (0.17.4)\n",
            "Requirement already satisfied: protobuf<4,>=3.12.2 in /usr/local/lib/python3.7/dist-packages (from apache-beam[gcp]) (3.17.3)\n",
            "Collecting hdfs<3.0.0,>=2.1.0\n",
            "  Downloading hdfs-2.7.0-py3-none-any.whl (34 kB)\n",
            "Requirement already satisfied: typing-extensions>=3.7.0 in /usr/local/lib/python3.7/dist-packages (from apache-beam[gcp]) (4.1.1)\n",
            "Requirement already satisfied: pydot<2,>=1.2.0 in /usr/local/lib/python3.7/dist-packages (from apache-beam[gcp]) (1.3.0)\n",
            "Collecting requests<3.0.0,>=2.24.0\n",
            "  Downloading requests-2.28.1-py3-none-any.whl (62 kB)\n",
            "\u001b[K     |████████████████████████████████| 62 kB 1.4 MB/s \n",
            "\u001b[?25hCollecting proto-plus<2,>=1.7.1\n",
            "  Downloading proto_plus-1.20.6-py3-none-any.whl (46 kB)\n",
            "\u001b[K     |████████████████████████████████| 46 kB 3.4 MB/s \n",
            "\u001b[?25hCollecting pymongo<4.0.0,>=3.8.0\n",
            "  Downloading pymongo-3.12.3-cp37-cp37m-manylinux_2_17_x86_64.manylinux2014_x86_64.whl (508 kB)\n",
            "\u001b[K     |████████████████████████████████| 508 kB 61.2 MB/s \n",
            "\u001b[?25hRequirement already satisfied: python-dateutil<3,>=2.8.0 in /usr/local/lib/python3.7/dist-packages (from apache-beam[gcp]) (2.8.2)\n",
            "Requirement already satisfied: pytz>=2018.3 in /usr/local/lib/python3.7/dist-packages (from apache-beam[gcp]) (2022.1)\n",
            "Collecting dill<0.3.2,>=0.3.1.1\n",
            "  Downloading dill-0.3.1.1.tar.gz (151 kB)\n",
            "\u001b[K     |████████████████████████████████| 151 kB 48.5 MB/s \n",
            "\u001b[?25hCollecting orjson<4.0\n",
            "  Downloading orjson-3.7.11-cp37-cp37m-manylinux_2_17_x86_64.manylinux2014_x86_64.whl (275 kB)\n",
            "\u001b[K     |████████████████████████████████| 275 kB 66.0 MB/s \n",
            "\u001b[?25hRequirement already satisfied: numpy<1.23.0,>=1.14.3 in /usr/local/lib/python3.7/dist-packages (from apache-beam[gcp]) (1.21.6)\n",
            "Requirement already satisfied: pyarrow<8.0.0,>=0.15.1 in /usr/local/lib/python3.7/dist-packages (from apache-beam[gcp]) (6.0.1)\n",
            "Collecting cloudpickle<3,>=2.1.0\n",
            "  Downloading cloudpickle-2.1.0-py3-none-any.whl (25 kB)\n",
            "Collecting google-apitools<0.5.32,>=0.5.31\n",
            "  Downloading google-apitools-0.5.31.tar.gz (173 kB)\n",
            "\u001b[K     |████████████████████████████████| 173 kB 66.8 MB/s \n",
            "\u001b[?25hCollecting google-cloud-vision<2,>=0.38.0\n",
            "  Downloading google_cloud_vision-1.0.2-py2.py3-none-any.whl (435 kB)\n",
            "\u001b[K     |████████████████████████████████| 435 kB 67.0 MB/s \n",
            "\u001b[?25hRequirement already satisfied: google-cloud-bigquery<3,>=1.6.0 in /usr/local/lib/python3.7/dist-packages (from apache-beam[gcp]) (1.21.0)\n",
            "Requirement already satisfied: google-auth<3,>=1.18.0 in /usr/local/lib/python3.7/dist-packages (from apache-beam[gcp]) (1.35.0)\n",
            "Collecting grpcio-gcp<1,>=0.2.2\n",
            "  Downloading grpcio_gcp-0.2.2-py2.py3-none-any.whl (9.4 kB)\n",
            "Collecting google-cloud-bigquery-storage>=2.6.3\n",
            "  Downloading google_cloud_bigquery_storage-2.14.1-py2.py3-none-any.whl (181 kB)\n",
            "\u001b[K     |████████████████████████████████| 181 kB 63.8 MB/s \n",
            "\u001b[?25hCollecting google-cloud-pubsublite<2,>=1.2.0\n",
            "  Downloading google_cloud_pubsublite-1.4.2-py2.py3-none-any.whl (265 kB)\n",
            "\u001b[K     |████████████████████████████████| 265 kB 67.9 MB/s \n",
            "\u001b[?25hRequirement already satisfied: google-cloud-core<2,>=0.28.1 in /usr/local/lib/python3.7/dist-packages (from apache-beam[gcp]) (1.0.3)\n",
            "Collecting google-auth-httplib2<0.2.0,>=0.1.0\n",
            "  Downloading google_auth_httplib2-0.1.0-py2.py3-none-any.whl (9.3 kB)\n",
            "Requirement already satisfied: cachetools<5,>=3.1.0 in /usr/local/lib/python3.7/dist-packages (from apache-beam[gcp]) (4.2.4)\n",
            "Collecting google-cloud-language<2,>=1.3.0\n",
            "  Downloading google_cloud_language-1.3.2-py2.py3-none-any.whl (83 kB)\n",
            "\u001b[K     |████████████████████████████████| 83 kB 2.1 MB/s \n",
            "\u001b[?25hRequirement already satisfied: google-cloud-datastore<2,>=1.8.0 in /usr/local/lib/python3.7/dist-packages (from apache-beam[gcp]) (1.8.0)\n",
            "Collecting google-cloud-recommendations-ai<=0.2.0,>=0.1.0\n",
            "  Downloading google_cloud_recommendations_ai-0.2.0-py2.py3-none-any.whl (180 kB)\n",
            "\u001b[K     |████████████████████████████████| 180 kB 61.1 MB/s \n",
            "\u001b[?25hCollecting google-cloud-videointelligence<2,>=1.8.0\n",
            "  Downloading google_cloud_videointelligence-1.16.3-py2.py3-none-any.whl (183 kB)\n",
            "\u001b[K     |████████████████████████████████| 183 kB 63.0 MB/s \n",
            "\u001b[?25hCollecting google-cloud-pubsub<3,>=2.1.0\n",
            "  Downloading google_cloud_pubsub-2.13.4-py2.py3-none-any.whl (234 kB)\n",
            "\u001b[K     |████████████████████████████████| 234 kB 56.6 MB/s \n",
            "\u001b[?25hCollecting google-cloud-dlp<4,>=3.0.0\n",
            "  Downloading google_cloud_dlp-3.8.0-py2.py3-none-any.whl (119 kB)\n",
            "\u001b[K     |████████████████████████████████| 119 kB 70.6 MB/s \n",
            "\u001b[?25hCollecting google-cloud-bigtable<2,>=0.31.1\n",
            "  Downloading google_cloud_bigtable-1.7.2-py2.py3-none-any.whl (267 kB)\n",
            "\u001b[K     |████████████████████████████████| 267 kB 70.7 MB/s \n",
            "\u001b[?25hCollecting google-cloud-spanner<2,>=1.13.0\n",
            "  Downloading google_cloud_spanner-1.19.3-py2.py3-none-any.whl (255 kB)\n",
            "\u001b[K     |████████████████████████████████| 255 kB 65.4 MB/s \n",
            "\u001b[?25hCollecting fasteners>=0.14\n",
            "  Downloading fasteners-0.17.3-py3-none-any.whl (18 kB)\n",
            "Requirement already satisfied: oauth2client>=1.4.12 in /usr/local/lib/python3.7/dist-packages (from google-apitools<0.5.32,>=0.5.31->apache-beam[gcp]) (4.1.3)\n",
            "Requirement already satisfied: six>=1.12.0 in /usr/local/lib/python3.7/dist-packages (from google-apitools<0.5.32,>=0.5.31->apache-beam[gcp]) (1.15.0)\n",
            "Requirement already satisfied: pyasn1-modules>=0.2.1 in /usr/local/lib/python3.7/dist-packages (from google-auth<3,>=1.18.0->apache-beam[gcp]) (0.2.8)\n",
            "Requirement already satisfied: setuptools>=40.3.0 in /usr/local/lib/python3.7/dist-packages (from google-auth<3,>=1.18.0->apache-beam[gcp]) (57.4.0)\n",
            "Requirement already satisfied: rsa<5,>=3.1.4 in /usr/local/lib/python3.7/dist-packages (from google-auth<3,>=1.18.0->apache-beam[gcp]) (4.9)\n",
            "Requirement already satisfied: google-resumable-media!=0.4.0,<0.5.0dev,>=0.3.1 in /usr/local/lib/python3.7/dist-packages (from google-cloud-bigquery<3,>=1.6.0->apache-beam[gcp]) (0.4.1)\n",
            "Collecting google-api-core[grpc]!=2.0.*,!=2.1.*,!=2.2.*,!=2.3.*,!=2.4.*,!=2.5.*,!=2.6.*,!=2.7.*,<3.0.0dev,>=1.32.0\n",
            "  Downloading google_api_core-2.8.2-py3-none-any.whl (114 kB)\n",
            "\u001b[K     |████████████████████████████████| 114 kB 57.7 MB/s \n",
            "\u001b[?25hCollecting protobuf<4,>=3.12.2\n",
            "  Downloading protobuf-3.20.1-cp37-cp37m-manylinux_2_5_x86_64.manylinux1_x86_64.whl (1.0 MB)\n",
            "\u001b[K     |████████████████████████████████| 1.0 MB 69.1 MB/s \n",
            "\u001b[?25hRequirement already satisfied: googleapis-common-protos<2.0dev,>=1.56.2 in /usr/local/lib/python3.7/dist-packages (from google-api-core[grpc]!=2.0.*,!=2.1.*,!=2.2.*,!=2.3.*,!=2.4.*,!=2.5.*,!=2.6.*,!=2.7.*,<3.0.0dev,>=1.32.0->google-cloud-bigquery-storage>=2.6.3->apache-beam[gcp]) (1.56.4)\n",
            "Collecting grpcio-status<2.0dev,>=1.33.2\n",
            "  Downloading grpcio_status-1.47.0-py3-none-any.whl (10.0 kB)\n",
            "Collecting google-cloud-core<2,>=0.28.1\n",
            "  Downloading google_cloud_core-1.7.3-py2.py3-none-any.whl (28 kB)\n",
            "Collecting grpc-google-iam-v1<0.13dev,>=0.12.3\n",
            "  Downloading grpc_google_iam_v1-0.12.4-py2.py3-none-any.whl (26 kB)\n",
            "Collecting google-cloud-datastore<2,>=1.8.0\n",
            "  Downloading google_cloud_datastore-1.15.5-py2.py3-none-any.whl (134 kB)\n",
            "\u001b[K     |████████████████████████████████| 134 kB 69.1 MB/s \n",
            "\u001b[?25hCollecting overrides<7.0.0,>=6.0.1\n",
            "  Downloading overrides-6.2.0-py3-none-any.whl (17 kB)\n",
            "Collecting google-cloud-recommendations-ai<=0.2.0,>=0.1.0\n",
            "  Downloading google_cloud_recommendations_ai-0.1.0-py2.py3-none-any.whl (99 kB)\n",
            "\u001b[K     |████████████████████████████████| 99 kB 5.9 MB/s \n",
            "\u001b[?25hINFO: pip is looking at multiple versions of google-cloud-pubsublite to determine which version is compatible with other requirements. This could take a while.\n",
            "Collecting google-cloud-pubsublite<2,>=1.2.0\n",
            "  Downloading google_cloud_pubsublite-1.4.1-py2.py3-none-any.whl (265 kB)\n",
            "\u001b[K     |████████████████████████████████| 265 kB 72.3 MB/s \n",
            "\u001b[?25h  Downloading google_cloud_pubsublite-1.4.0-py2.py3-none-any.whl (261 kB)\n",
            "\u001b[K     |████████████████████████████████| 261 kB 59.2 MB/s \n",
            "\u001b[?25h  Downloading google_cloud_pubsublite-1.3.0-py2.py3-none-any.whl (255 kB)\n",
            "\u001b[K     |████████████████████████████████| 255 kB 72.0 MB/s \n",
            "\u001b[?25h  Downloading google_cloud_pubsublite-1.2.0-py2.py3-none-any.whl (252 kB)\n",
            "\u001b[K     |████████████████████████████████| 252 kB 73.7 MB/s \n",
            "\u001b[?25hRequirement already satisfied: packaging>=14.3 in /usr/local/lib/python3.7/dist-packages (from google-cloud-pubsublite<2,>=1.2.0->apache-beam[gcp]) (21.3)\n",
            "INFO: pip is looking at multiple versions of google-cloud-pubsub to determine which version is compatible with other requirements. This could take a while.\n",
            "Collecting google-cloud-pubsub<3,>=2.1.0\n",
            "  Downloading google_cloud_pubsub-2.13.3-py2.py3-none-any.whl (234 kB)\n",
            "\u001b[K     |████████████████████████████████| 234 kB 70.5 MB/s \n",
            "\u001b[?25hINFO: pip is looking at multiple versions of google-cloud-pubsublite to determine which version is compatible with other requirements. This could take a while.\n",
            "  Downloading google_cloud_pubsub-2.13.2-py2.py3-none-any.whl (234 kB)\n",
            "\u001b[K     |████████████████████████████████| 234 kB 68.5 MB/s \n",
            "\u001b[?25hINFO: This is taking longer than usual. You might need to provide the dependency resolver with stricter constraints to reduce runtime. If you want to abort this run, you can press Ctrl + C to do so. To improve how pip performs, tell us what happened here: https://pip.pypa.io/surveys/backtracking\n",
            "  Downloading google_cloud_pubsub-2.13.1-py2.py3-none-any.whl (234 kB)\n",
            "\u001b[K     |████████████████████████████████| 234 kB 69.8 MB/s \n",
            "\u001b[?25h  Downloading google_cloud_pubsub-2.13.0-py2.py3-none-any.whl (234 kB)\n",
            "\u001b[K     |████████████████████████████████| 234 kB 66.3 MB/s \n",
            "\u001b[?25h  Downloading google_cloud_pubsub-2.12.1-py2.py3-none-any.whl (233 kB)\n",
            "\u001b[K     |████████████████████████████████| 233 kB 70.9 MB/s \n",
            "\u001b[?25h  Downloading google_cloud_pubsub-2.12.0-py2.py3-none-any.whl (232 kB)\n",
            "\u001b[K     |████████████████████████████████| 232 kB 33.3 MB/s \n",
            "\u001b[?25h  Downloading google_cloud_pubsub-2.11.1-py2.py3-none-any.whl (232 kB)\n",
            "\u001b[K     |████████████████████████████████| 232 kB 59.7 MB/s \n",
            "\u001b[?25hINFO: pip is looking at multiple versions of google-cloud-pubsub to determine which version is compatible with other requirements. This could take a while.\n",
            "  Downloading google_cloud_pubsub-2.11.0-py2.py3-none-any.whl (232 kB)\n",
            "\u001b[K     |████████████████████████████████| 232 kB 60.1 MB/s \n",
            "\u001b[?25h  Downloading google_cloud_pubsub-2.10.0-py2.py3-none-any.whl (231 kB)\n",
            "\u001b[K     |████████████████████████████████| 231 kB 60.7 MB/s \n",
            "\u001b[?25h  Downloading google_cloud_pubsub-2.9.0-py2.py3-none-any.whl (219 kB)\n",
            "\u001b[K     |████████████████████████████████| 219 kB 52.8 MB/s \n",
            "\u001b[?25hCollecting libcst>=0.3.10\n",
            "  Downloading libcst-0.4.7-cp37-cp37m-manylinux_2_17_x86_64.manylinux2014_x86_64.whl (2.7 MB)\n",
            "\u001b[K     |████████████████████████████████| 2.7 MB 36.9 MB/s \n",
            "\u001b[?25hCollecting google-cloud-pubsub<3,>=2.1.0\n",
            "  Downloading google_cloud_pubsub-2.8.0-py2.py3-none-any.whl (217 kB)\n",
            "\u001b[K     |████████████████████████████████| 217 kB 56.9 MB/s \n",
            "\u001b[?25h  Downloading google_cloud_pubsub-2.7.1-py2.py3-none-any.whl (217 kB)\n",
            "\u001b[K     |████████████████████████████████| 217 kB 53.5 MB/s \n",
            "\u001b[?25hINFO: This is taking longer than usual. You might need to provide the dependency resolver with stricter constraints to reduce runtime. If you want to abort this run, you can press Ctrl + C to do so. To improve how pip performs, tell us what happened here: https://pip.pypa.io/surveys/backtracking\n",
            "  Downloading google_cloud_pubsub-2.7.0-py2.py3-none-any.whl (217 kB)\n",
            "\u001b[K     |████████████████████████████████| 217 kB 57.9 MB/s \n",
            "\u001b[?25h  Downloading google_cloud_pubsub-2.6.1-py2.py3-none-any.whl (212 kB)\n",
            "\u001b[K     |████████████████████████████████| 212 kB 59.3 MB/s \n",
            "\u001b[?25h  Downloading google_cloud_pubsub-2.6.0-py2.py3-none-any.whl (212 kB)\n",
            "\u001b[K     |████████████████████████████████| 212 kB 57.2 MB/s \n",
            "\u001b[?25h  Downloading google_cloud_pubsub-2.5.0-py2.py3-none-any.whl (211 kB)\n",
            "\u001b[K     |████████████████████████████████| 211 kB 58.8 MB/s \n",
            "\u001b[?25h  Downloading google_cloud_pubsub-2.4.2-py2.py3-none-any.whl (212 kB)\n",
            "\u001b[K     |████████████████████████████████| 212 kB 57.5 MB/s \n",
            "\u001b[?25h  Downloading google_cloud_pubsub-2.4.1-py2.py3-none-any.whl (212 kB)\n",
            "\u001b[K     |████████████████████████████████| 212 kB 57.8 MB/s \n",
            "\u001b[?25h  Downloading google_cloud_pubsub-2.3.0-py2.py3-none-any.whl (210 kB)\n",
            "\u001b[K     |████████████████████████████████| 210 kB 55.9 MB/s \n",
            "\u001b[?25h  Downloading google_cloud_pubsub-2.2.0-py2.py3-none-any.whl (179 kB)\n",
            "\u001b[K     |████████████████████████████████| 179 kB 59.1 MB/s \n",
            "\u001b[?25h  Downloading google_cloud_pubsub-2.1.0-py2.py3-none-any.whl (177 kB)\n",
            "\u001b[K     |████████████████████████████████| 177 kB 52.4 MB/s \n",
            "\u001b[?25hINFO: pip is looking at multiple versions of google-cloud-language to determine which version is compatible with other requirements. This could take a while.\n",
            "Collecting google-cloud-language<2,>=1.3.0\n",
            "  Downloading google_cloud_language-1.3.1-py2.py3-none-any.whl (83 kB)\n",
            "\u001b[K     |████████████████████████████████| 83 kB 864 kB/s \n",
            "\u001b[?25h  Downloading google_cloud_language-1.3.0-py2.py3-none-any.whl (83 kB)\n",
            "\u001b[K     |████████████████████████████████| 83 kB 1.0 MB/s \n",
            "\u001b[?25hINFO: pip is looking at multiple versions of google-cloud-dlp to determine which version is compatible with other requirements. This could take a while.\n",
            "Collecting google-cloud-dlp<4,>=3.0.0\n",
            "  Downloading google_cloud_dlp-3.7.1-py2.py3-none-any.whl (118 kB)\n",
            "\u001b[K     |████████████████████████████████| 118 kB 52.3 MB/s \n",
            "\u001b[?25h  Downloading google_cloud_dlp-3.7.0-py2.py3-none-any.whl (118 kB)\n",
            "\u001b[K     |████████████████████████████████| 118 kB 64.2 MB/s \n",
            "\u001b[?25h  Downloading google_cloud_dlp-3.6.2-py2.py3-none-any.whl (113 kB)\n",
            "\u001b[K     |████████████████████████████████| 113 kB 47.3 MB/s \n",
            "\u001b[?25hINFO: pip is looking at multiple versions of google-cloud-language to determine which version is compatible with other requirements. This could take a while.\n",
            "  Downloading google_cloud_dlp-3.6.1-py2.py3-none-any.whl (113 kB)\n",
            "\u001b[K     |████████████████████████████████| 113 kB 57.3 MB/s \n",
            "\u001b[?25h  Downloading google_cloud_dlp-3.6.0-py2.py3-none-any.whl (111 kB)\n",
            "\u001b[K     |████████████████████████████████| 111 kB 57.2 MB/s \n",
            "\u001b[?25h  Downloading google_cloud_dlp-3.5.0-py2.py3-none-any.whl (110 kB)\n",
            "\u001b[K     |████████████████████████████████| 110 kB 57.2 MB/s \n",
            "\u001b[?25hINFO: This is taking longer than usual. You might need to provide the dependency resolver with stricter constraints to reduce runtime. If you want to abort this run, you can press Ctrl + C to do so. To improve how pip performs, tell us what happened here: https://pip.pypa.io/surveys/backtracking\n",
            "  Downloading google_cloud_dlp-3.4.0-py2.py3-none-any.whl (110 kB)\n",
            "\u001b[K     |████████████████████████████████| 110 kB 51.1 MB/s \n",
            "\u001b[?25hINFO: pip is looking at multiple versions of google-cloud-dlp to determine which version is compatible with other requirements. This could take a while.\n",
            "  Downloading google_cloud_dlp-3.3.1-py2.py3-none-any.whl (110 kB)\n",
            "\u001b[K     |████████████████████████████████| 110 kB 58.3 MB/s \n",
            "\u001b[?25h  Downloading google_cloud_dlp-3.3.0-py2.py3-none-any.whl (109 kB)\n",
            "\u001b[K     |████████████████████████████████| 109 kB 59.7 MB/s \n",
            "\u001b[?25h  Downloading google_cloud_dlp-3.2.4-py2.py3-none-any.whl (109 kB)\n",
            "\u001b[K     |████████████████████████████████| 109 kB 58.0 MB/s \n",
            "\u001b[?25h  Downloading google_cloud_dlp-3.2.3-py2.py3-none-any.whl (109 kB)\n",
            "\u001b[K     |████████████████████████████████| 109 kB 72.0 MB/s \n",
            "\u001b[?25h  Downloading google_cloud_dlp-3.2.2-py2.py3-none-any.whl (109 kB)\n",
            "\u001b[K     |████████████████████████████████| 109 kB 58.2 MB/s \n",
            "\u001b[?25hINFO: This is taking longer than usual. You might need to provide the dependency resolver with stricter constraints to reduce runtime. If you want to abort this run, you can press Ctrl + C to do so. To improve how pip performs, tell us what happened here: https://pip.pypa.io/surveys/backtracking\n",
            "  Downloading google_cloud_dlp-3.2.1-py2.py3-none-any.whl (109 kB)\n",
            "\u001b[K     |████████████████████████████████| 109 kB 58.4 MB/s \n",
            "\u001b[?25h  Downloading google_cloud_dlp-3.2.0-py2.py3-none-any.whl (109 kB)\n",
            "\u001b[K     |████████████████████████████████| 109 kB 58.0 MB/s \n",
            "\u001b[?25h  Downloading google_cloud_dlp-3.1.1-py2.py3-none-any.whl (109 kB)\n",
            "\u001b[K     |████████████████████████████████| 109 kB 56.6 MB/s \n",
            "\u001b[?25h  Downloading google_cloud_dlp-3.1.0-py2.py3-none-any.whl (153 kB)\n",
            "\u001b[K     |████████████████████████████████| 153 kB 58.6 MB/s \n",
            "\u001b[?25h  Downloading google_cloud_dlp-3.0.1-py2.py3-none-any.whl (150 kB)\n",
            "\u001b[K     |████████████████████████████████| 150 kB 49.5 MB/s \n",
            "\u001b[?25h  Downloading google_cloud_dlp-3.0.0-py2.py3-none-any.whl (150 kB)\n",
            "\u001b[K     |████████████████████████████████| 150 kB 56.4 MB/s \n",
            "\u001b[?25hINFO: pip is looking at multiple versions of google-cloud-datastore to determine which version is compatible with other requirements. This could take a while.\n",
            "Collecting google-cloud-datastore<2,>=1.8.0\n",
            "  Downloading google_cloud_datastore-1.15.4-py2.py3-none-any.whl (134 kB)\n",
            "\u001b[K     |████████████████████████████████| 134 kB 65.0 MB/s \n",
            "\u001b[?25h  Downloading google_cloud_datastore-1.15.3-py2.py3-none-any.whl (134 kB)\n",
            "\u001b[K     |████████████████████████████████| 134 kB 56.7 MB/s \n",
            "\u001b[?25h  Downloading google_cloud_datastore-1.15.2-py2.py3-none-any.whl (134 kB)\n",
            "\u001b[K     |████████████████████████████████| 134 kB 56.1 MB/s \n",
            "\u001b[?25h  Downloading google_cloud_datastore-1.15.1-py2.py3-none-any.whl (133 kB)\n",
            "\u001b[K     |████████████████████████████████| 133 kB 54.7 MB/s \n",
            "\u001b[?25h  Downloading google_cloud_datastore-1.15.0-py2.py3-none-any.whl (132 kB)\n",
            "\u001b[K     |████████████████████████████████| 132 kB 53.2 MB/s \n",
            "\u001b[?25h  Downloading google_cloud_datastore-1.14.0-py2.py3-none-any.whl (131 kB)\n",
            "\u001b[K     |████████████████████████████████| 131 kB 58.0 MB/s \n",
            "\u001b[?25h  Downloading google_cloud_datastore-1.13.2-py2.py3-none-any.whl (131 kB)\n",
            "\u001b[K     |████████████████████████████████| 131 kB 54.6 MB/s \n",
            "\u001b[?25h  Downloading google_cloud_datastore-1.13.1-py2.py3-none-any.whl (131 kB)\n",
            "\u001b[K     |████████████████████████████████| 131 kB 58.7 MB/s \n",
            "\u001b[?25h  Downloading google_cloud_datastore-1.13.0-py2.py3-none-any.whl (105 kB)\n",
            "\u001b[K     |████████████████████████████████| 105 kB 58.1 MB/s \n",
            "\u001b[?25h  Downloading google_cloud_datastore-1.12.0-py2.py3-none-any.whl (97 kB)\n",
            "\u001b[K     |████████████████████████████████| 97 kB 6.8 MB/s \n",
            "\u001b[?25h  Downloading google_cloud_datastore-1.11.0-py2.py3-none-any.whl (97 kB)\n",
            "\u001b[K     |████████████████████████████████| 97 kB 5.9 MB/s \n",
            "\u001b[?25h  Downloading google_cloud_datastore-1.10.0-py2.py3-none-any.whl (97 kB)\n",
            "\u001b[K     |████████████████████████████████| 97 kB 5.9 MB/s \n",
            "\u001b[?25h  Downloading google_cloud_datastore-1.9.0-py2.py3-none-any.whl (97 kB)\n",
            "\u001b[K     |████████████████████████████████| 97 kB 5.9 MB/s \n",
            "\u001b[?25hINFO: pip is looking at multiple versions of google-cloud-core to determine which version is compatible with other requirements. This could take a while.\n",
            "Collecting google-cloud-core<2,>=0.28.1\n",
            "  Downloading google_cloud_core-1.7.2-py2.py3-none-any.whl (28 kB)\n",
            "  Downloading google_cloud_core-1.7.1-py2.py3-none-any.whl (28 kB)\n",
            "  Downloading google_cloud_core-1.7.0-py2.py3-none-any.whl (28 kB)\n",
            "  Downloading google_cloud_core-1.6.0-py2.py3-none-any.whl (28 kB)\n",
            "  Downloading google_cloud_core-1.5.0-py2.py3-none-any.whl (27 kB)\n",
            "  Downloading google_cloud_core-1.4.4-py2.py3-none-any.whl (27 kB)\n",
            "  Downloading google_cloud_core-1.4.3-py2.py3-none-any.whl (27 kB)\n",
            "  Downloading google_cloud_core-1.4.2-py2.py3-none-any.whl (26 kB)\n",
            "  Downloading google_cloud_core-1.4.1-py2.py3-none-any.whl (26 kB)\n",
            "INFO: pip is looking at multiple versions of google-cloud-bigtable to determine which version is compatible with other requirements. This could take a while.\n",
            "Collecting google-cloud-bigtable<2,>=0.31.1\n",
            "  Downloading google_cloud_bigtable-1.7.1-py2.py3-none-any.whl (267 kB)\n",
            "\u001b[K     |████████████████████████████████| 267 kB 55.1 MB/s \n",
            "\u001b[?25h  Downloading google_cloud_bigtable-1.7.0-py2.py3-none-any.whl (267 kB)\n",
            "\u001b[K     |████████████████████████████████| 267 kB 49.5 MB/s \n",
            "\u001b[?25h  Downloading google_cloud_bigtable-1.6.1-py2.py3-none-any.whl (267 kB)\n",
            "\u001b[K     |████████████████████████████████| 267 kB 58.8 MB/s \n",
            "\u001b[?25h  Downloading google_cloud_bigtable-1.6.0-py2.py3-none-any.whl (267 kB)\n",
            "\u001b[K     |████████████████████████████████| 267 kB 51.9 MB/s \n",
            "\u001b[?25h  Downloading google_cloud_bigtable-1.5.1-py2.py3-none-any.whl (266 kB)\n",
            "\u001b[K     |████████████████████████████████| 266 kB 50.9 MB/s \n",
            "\u001b[?25h  Downloading google_cloud_bigtable-1.5.0-py2.py3-none-any.whl (266 kB)\n",
            "\u001b[K     |████████████████████████████████| 266 kB 58.6 MB/s \n",
            "\u001b[?25h  Downloading google_cloud_bigtable-1.4.0-py2.py3-none-any.whl (265 kB)\n",
            "\u001b[K     |████████████████████████████████| 265 kB 59.2 MB/s \n",
            "\u001b[?25h  Downloading google_cloud_bigtable-1.3.0-py2.py3-none-any.whl (259 kB)\n",
            "\u001b[K     |████████████████████████████████| 259 kB 58.7 MB/s \n",
            "\u001b[?25h  Downloading google_cloud_bigtable-1.2.1-py2.py3-none-any.whl (234 kB)\n",
            "\u001b[K     |████████████████████████████████| 234 kB 54.6 MB/s \n",
            "\u001b[?25h  Downloading google_cloud_bigtable-1.2.0-py2.py3-none-any.whl (234 kB)\n",
            "\u001b[K     |████████████████████████████████| 234 kB 56.4 MB/s \n",
            "\u001b[?25h  Downloading google_cloud_bigtable-1.1.0-py2.py3-none-any.whl (234 kB)\n",
            "\u001b[K     |████████████████████████████████| 234 kB 45.9 MB/s \n",
            "\u001b[?25h  Downloading google_cloud_bigtable-1.0.0-py2.py3-none-any.whl (232 kB)\n",
            "\u001b[K     |████████████████████████████████| 232 kB 48.0 MB/s \n",
            "\u001b[?25h  Downloading google_cloud_bigtable-0.34.0-py2.py3-none-any.whl (232 kB)\n",
            "\u001b[K     |████████████████████████████████| 232 kB 57.9 MB/s \n",
            "\u001b[?25h  Downloading google_cloud_bigtable-0.33.0-py2.py3-none-any.whl (230 kB)\n",
            "\u001b[K     |████████████████████████████████| 230 kB 51.5 MB/s \n",
            "\u001b[?25h  Downloading google_cloud_bigtable-0.32.2-py2.py3-none-any.whl (156 kB)\n",
            "\u001b[K     |████████████████████████████████| 156 kB 57.8 MB/s \n",
            "\u001b[?25h  Downloading google_cloud_bigtable-0.32.1-py2.py3-none-any.whl (156 kB)\n",
            "\u001b[K     |████████████████████████████████| 156 kB 51.2 MB/s \n",
            "\u001b[?25h  Downloading google_cloud_bigtable-0.32.0-py2.py3-none-any.whl (155 kB)\n",
            "\u001b[K     |████████████████████████████████| 155 kB 58.2 MB/s \n",
            "\u001b[?25h  Downloading google_cloud_bigtable-0.31.1-py2.py3-none-any.whl (154 kB)\n",
            "\u001b[K     |████████████████████████████████| 154 kB 47.9 MB/s \n",
            "\u001b[?25hINFO: pip is looking at multiple versions of google-api-core to determine which version is compatible with other requirements. This could take a while.\n",
            "INFO: pip is looking at multiple versions of google-api-core[grpc] to determine which version is compatible with other requirements. This could take a while.\n",
            "Collecting google-api-core[grpc]!=2.0.*,!=2.1.*,!=2.2.*,!=2.3.*,!=2.4.*,!=2.5.*,!=2.6.*,!=2.7.*,<3.0.0dev,>=1.32.0\n",
            "  Downloading google_api_core-2.8.1-py3-none-any.whl (114 kB)\n",
            "\u001b[K     |████████████████████████████████| 114 kB 47.1 MB/s \n",
            "\u001b[?25hINFO: pip is looking at multiple versions of google-cloud-datastore to determine which version is compatible with other requirements. This could take a while.\n",
            "  Downloading google_api_core-2.8.0-py3-none-any.whl (114 kB)\n",
            "\u001b[K     |████████████████████████████████| 114 kB 55.1 MB/s \n",
            "\u001b[?25h  Downloading google_api_core-1.32.0-py2.py3-none-any.whl (93 kB)\n",
            "\u001b[K     |████████████████████████████████| 93 kB 1.7 MB/s \n",
            "\u001b[?25hCollecting docopt\n",
            "  Downloading docopt-0.6.2.tar.gz (25 kB)\n",
            "Requirement already satisfied: pyasn1>=0.1.7 in /usr/local/lib/python3.7/dist-packages (from oauth2client>=1.4.12->google-apitools<0.5.32,>=0.5.31->apache-beam[gcp]) (0.4.8)\n",
            "Requirement already satisfied: pyparsing!=3.0.5,>=2.0.2 in /usr/local/lib/python3.7/dist-packages (from packaging>=14.3->google-cloud-pubsublite<2,>=1.2.0->apache-beam[gcp]) (3.0.9)\n",
            "Requirement already satisfied: urllib3<1.27,>=1.21.1 in /usr/local/lib/python3.7/dist-packages (from requests<3.0.0,>=2.24.0->apache-beam[gcp]) (1.24.3)\n",
            "Requirement already satisfied: certifi>=2017.4.17 in /usr/local/lib/python3.7/dist-packages (from requests<3.0.0,>=2.24.0->apache-beam[gcp]) (2022.6.15)\n",
            "Requirement already satisfied: idna<4,>=2.5 in /usr/local/lib/python3.7/dist-packages (from requests<3.0.0,>=2.24.0->apache-beam[gcp]) (2.10)\n",
            "Requirement already satisfied: charset-normalizer<3,>=2 in /usr/local/lib/python3.7/dist-packages (from requests<3.0.0,>=2.24.0->apache-beam[gcp]) (2.1.0)\n",
            "Building wheels for collected packages: dill, google-apitools, docopt\n",
            "  Building wheel for dill (setup.py) ... \u001b[?25l\u001b[?25hdone\n",
            "  Created wheel for dill: filename=dill-0.3.1.1-py3-none-any.whl size=78544 sha256=014b5be637b414527ebb5349d9c988e528f60f1d830cf707682193272a5a515f\n",
            "  Stored in directory: /root/.cache/pip/wheels/a4/61/fd/c57e374e580aa78a45ed78d5859b3a44436af17e22ca53284f\n",
            "  Building wheel for google-apitools (setup.py) ... \u001b[?25l\u001b[?25hdone\n",
            "  Created wheel for google-apitools: filename=google_apitools-0.5.31-py3-none-any.whl size=131039 sha256=4d769af826902b65ba351365b28466ce36cec4d4c50f9d31ed06d7a97aee2fa2\n",
            "  Stored in directory: /root/.cache/pip/wheels/19/b5/2f/1cc3cf2b31e7a9cd1508731212526d9550271274d351c96f16\n",
            "  Building wheel for docopt (setup.py) ... \u001b[?25l\u001b[?25hdone\n",
            "  Created wheel for docopt: filename=docopt-0.6.2-py2.py3-none-any.whl size=13723 sha256=912a262e25d0632308bbaa6aa3968f1ed248248376872cc084a69bcd1c155a01\n",
            "  Stored in directory: /root/.cache/pip/wheels/72/b0/3f/1d95f96ff986c7dfffe46ce2be4062f38ebd04b506c77c81b9\n",
            "Successfully built dill google-apitools docopt\n",
            "Installing collected packages: protobuf, requests, google-api-core, proto-plus, grpcio-status, grpcio-gcp, grpc-google-iam-v1, docopt, pymongo, overrides, orjson, hdfs, google-cloud-pubsub, google-cloud-core, fasteners, fastavro, dill, cloudpickle, google-cloud-vision, google-cloud-videointelligence, google-cloud-spanner, google-cloud-recommendations-ai, google-cloud-pubsublite, google-cloud-language, google-cloud-dlp, google-cloud-bigtable, google-cloud-bigquery-storage, google-auth-httplib2, google-apitools, apache-beam\n",
            "  Attempting uninstall: protobuf\n",
            "    Found existing installation: protobuf 3.17.3\n",
            "    Uninstalling protobuf-3.17.3:\n",
            "      Successfully uninstalled protobuf-3.17.3\n",
            "  Attempting uninstall: requests\n",
            "    Found existing installation: requests 2.23.0\n",
            "    Uninstalling requests-2.23.0:\n",
            "      Successfully uninstalled requests-2.23.0\n",
            "  Attempting uninstall: google-api-core\n",
            "    Found existing installation: google-api-core 1.31.6\n",
            "    Uninstalling google-api-core-1.31.6:\n",
            "      Successfully uninstalled google-api-core-1.31.6\n",
            "  Attempting uninstall: pymongo\n",
            "    Found existing installation: pymongo 4.2.0\n",
            "    Uninstalling pymongo-4.2.0:\n",
            "      Successfully uninstalled pymongo-4.2.0\n",
            "  Attempting uninstall: google-cloud-core\n",
            "    Found existing installation: google-cloud-core 1.0.3\n",
            "    Uninstalling google-cloud-core-1.0.3:\n",
            "      Successfully uninstalled google-cloud-core-1.0.3\n",
            "  Attempting uninstall: dill\n",
            "    Found existing installation: dill 0.3.5.1\n",
            "    Uninstalling dill-0.3.5.1:\n",
            "      Successfully uninstalled dill-0.3.5.1\n",
            "  Attempting uninstall: cloudpickle\n",
            "    Found existing installation: cloudpickle 1.3.0\n",
            "    Uninstalling cloudpickle-1.3.0:\n",
            "      Successfully uninstalled cloudpickle-1.3.0\n",
            "  Attempting uninstall: google-cloud-language\n",
            "    Found existing installation: google-cloud-language 1.2.0\n",
            "    Uninstalling google-cloud-language-1.2.0:\n",
            "      Successfully uninstalled google-cloud-language-1.2.0\n",
            "  Attempting uninstall: google-cloud-bigquery-storage\n",
            "    Found existing installation: google-cloud-bigquery-storage 1.1.2\n",
            "    Uninstalling google-cloud-bigquery-storage-1.1.2:\n",
            "      Successfully uninstalled google-cloud-bigquery-storage-1.1.2\n",
            "  Attempting uninstall: google-auth-httplib2\n",
            "    Found existing installation: google-auth-httplib2 0.0.4\n",
            "    Uninstalling google-auth-httplib2-0.0.4:\n",
            "      Successfully uninstalled google-auth-httplib2-0.0.4\n",
            "\u001b[31mERROR: pip's dependency resolver does not currently take into account all the packages that are installed. This behaviour is the source of the following dependency conflicts.\n",
            "tensorflow 2.8.2+zzzcolab20220719082949 requires protobuf<3.20,>=3.9.2, but you have protobuf 3.20.1 which is incompatible.\n",
            "gym 0.17.3 requires cloudpickle<1.7.0,>=1.2.0, but you have cloudpickle 2.1.0 which is incompatible.\u001b[0m\n",
            "Successfully installed apache-beam-2.40.0 cloudpickle-2.1.0 dill-0.3.1.1 docopt-0.6.2 fastavro-1.5.4 fasteners-0.17.3 google-api-core-1.32.0 google-apitools-0.5.31 google-auth-httplib2-0.1.0 google-cloud-bigquery-storage-2.14.1 google-cloud-bigtable-1.7.2 google-cloud-core-1.7.3 google-cloud-dlp-3.8.0 google-cloud-language-1.3.2 google-cloud-pubsub-2.13.4 google-cloud-pubsublite-1.4.2 google-cloud-recommendations-ai-0.2.0 google-cloud-spanner-1.19.3 google-cloud-videointelligence-1.16.3 google-cloud-vision-1.0.2 grpc-google-iam-v1-0.12.4 grpcio-gcp-0.2.2 grpcio-status-1.47.0 hdfs-2.7.0 orjson-3.7.11 overrides-6.2.0 proto-plus-1.20.6 protobuf-3.20.1 pymongo-3.12.3 requests-2.28.1\n"
          ]
        },
        {
          "output_type": "display_data",
          "data": {
            "application/vnd.colab-display-data+json": {
              "pip_warning": {
                "packages": [
                  "google"
                ]
              }
            }
          },
          "metadata": {}
        }
      ]
    },
    {
      "cell_type": "markdown",
      "source": [
        "#After install apache beam is important reset the enviorment"
      ],
      "metadata": {
        "id": "R_vGfdnKQBG1"
      }
    },
    {
      "cell_type": "code",
      "source": [
        "pip install --upgrade firebase-admin"
      ],
      "metadata": {
        "colab": {
          "base_uri": "https://localhost:8080/",
          "height": 1000
        },
        "id": "O87dB70a2rfE",
        "outputId": "9ac46018-05a9-492d-9180-8e5421db2919"
      },
      "execution_count": null,
      "outputs": [
        {
          "output_type": "stream",
          "name": "stdout",
          "text": [
            "Looking in indexes: https://pypi.org/simple, https://us-python.pkg.dev/colab-wheels/public/simple/\n",
            "Requirement already satisfied: firebase-admin in /usr/local/lib/python3.7/dist-packages (4.4.0)\n",
            "Collecting firebase-admin\n",
            "  Downloading firebase_admin-5.2.0-py3-none-any.whl (115 kB)\n",
            "\u001b[K     |████████████████████████████████| 115 kB 29.3 MB/s \n",
            "\u001b[?25hRequirement already satisfied: google-api-core[grpc]<3.0.0dev,>=1.22.1 in /usr/local/lib/python3.7/dist-packages (from firebase-admin) (1.32.0)\n",
            "Collecting google-cloud-storage>=1.37.1\n",
            "  Downloading google_cloud_storage-2.5.0-py2.py3-none-any.whl (106 kB)\n",
            "\u001b[K     |████████████████████████████████| 106 kB 57.1 MB/s \n",
            "\u001b[?25hCollecting google-cloud-firestore>=2.1.0\n",
            "  Downloading google_cloud_firestore-2.6.0-py2.py3-none-any.whl (244 kB)\n",
            "\u001b[K     |████████████████████████████████| 244 kB 55.4 MB/s \n",
            "\u001b[?25hRequirement already satisfied: google-api-python-client>=1.7.8 in /usr/local/lib/python3.7/dist-packages (from firebase-admin) (1.12.11)\n",
            "Requirement already satisfied: cachecontrol>=0.12.6 in /usr/local/lib/python3.7/dist-packages (from firebase-admin) (0.12.11)\n",
            "Requirement already satisfied: requests in /usr/local/lib/python3.7/dist-packages (from cachecontrol>=0.12.6->firebase-admin) (2.28.1)\n",
            "Requirement already satisfied: msgpack>=0.5.2 in /usr/local/lib/python3.7/dist-packages (from cachecontrol>=0.12.6->firebase-admin) (1.0.4)\n",
            "Requirement already satisfied: google-auth<2.0dev,>=1.25.0 in /usr/local/lib/python3.7/dist-packages (from google-api-core[grpc]<3.0.0dev,>=1.22.1->firebase-admin) (1.35.0)\n",
            "Requirement already satisfied: six>=1.13.0 in /usr/local/lib/python3.7/dist-packages (from google-api-core[grpc]<3.0.0dev,>=1.22.1->firebase-admin) (1.15.0)\n",
            "Requirement already satisfied: googleapis-common-protos<2.0dev,>=1.6.0 in /usr/local/lib/python3.7/dist-packages (from google-api-core[grpc]<3.0.0dev,>=1.22.1->firebase-admin) (1.56.4)\n",
            "Requirement already satisfied: setuptools>=40.3.0 in /usr/local/lib/python3.7/dist-packages (from google-api-core[grpc]<3.0.0dev,>=1.22.1->firebase-admin) (57.4.0)\n",
            "Requirement already satisfied: packaging>=14.3 in /usr/local/lib/python3.7/dist-packages (from google-api-core[grpc]<3.0.0dev,>=1.22.1->firebase-admin) (21.3)\n",
            "Requirement already satisfied: protobuf<4.0.0dev,>=3.12.0 in /usr/local/lib/python3.7/dist-packages (from google-api-core[grpc]<3.0.0dev,>=1.22.1->firebase-admin) (3.20.1)\n",
            "Requirement already satisfied: pytz in /usr/local/lib/python3.7/dist-packages (from google-api-core[grpc]<3.0.0dev,>=1.22.1->firebase-admin) (2022.1)\n",
            "Requirement already satisfied: grpcio<2.0dev,>=1.29.0 in /usr/local/lib/python3.7/dist-packages (from google-api-core[grpc]<3.0.0dev,>=1.22.1->firebase-admin) (1.47.0)\n",
            "Requirement already satisfied: httplib2<1dev,>=0.15.0 in /usr/local/lib/python3.7/dist-packages (from google-api-python-client>=1.7.8->firebase-admin) (0.17.4)\n",
            "Requirement already satisfied: uritemplate<4dev,>=3.0.0 in /usr/local/lib/python3.7/dist-packages (from google-api-python-client>=1.7.8->firebase-admin) (3.0.1)\n",
            "Requirement already satisfied: google-auth-httplib2>=0.0.3 in /usr/local/lib/python3.7/dist-packages (from google-api-python-client>=1.7.8->firebase-admin) (0.1.0)\n",
            "Requirement already satisfied: rsa<5,>=3.1.4 in /usr/local/lib/python3.7/dist-packages (from google-auth<2.0dev,>=1.25.0->google-api-core[grpc]<3.0.0dev,>=1.22.1->firebase-admin) (4.9)\n",
            "Requirement already satisfied: pyasn1-modules>=0.2.1 in /usr/local/lib/python3.7/dist-packages (from google-auth<2.0dev,>=1.25.0->google-api-core[grpc]<3.0.0dev,>=1.22.1->firebase-admin) (0.2.8)\n",
            "Requirement already satisfied: cachetools<5.0,>=2.0.0 in /usr/local/lib/python3.7/dist-packages (from google-auth<2.0dev,>=1.25.0->google-api-core[grpc]<3.0.0dev,>=1.22.1->firebase-admin) (4.2.4)\n",
            "Requirement already satisfied: proto-plus<2.0.0dev,>=1.20.5 in /usr/local/lib/python3.7/dist-packages (from google-cloud-firestore>=2.1.0->firebase-admin) (1.20.6)\n",
            "Requirement already satisfied: google-cloud-core<3.0.0dev,>=1.4.1 in /usr/local/lib/python3.7/dist-packages (from google-cloud-firestore>=2.1.0->firebase-admin) (1.7.3)\n",
            "Collecting google-cloud-core<3.0.0dev,>=1.4.1\n",
            "  Downloading google_cloud_core-2.3.2-py2.py3-none-any.whl (29 kB)\n",
            "Collecting google-resumable-media>=2.3.2\n",
            "  Downloading google_resumable_media-2.3.3-py2.py3-none-any.whl (76 kB)\n",
            "\u001b[K     |████████████████████████████████| 76 kB 6.4 MB/s \n",
            "\u001b[?25hCollecting google-crc32c<2.0dev,>=1.0\n",
            "  Downloading google_crc32c-1.3.0-cp37-cp37m-manylinux_2_12_x86_64.manylinux2010_x86_64.whl (38 kB)\n",
            "Requirement already satisfied: pyparsing!=3.0.5,>=2.0.2 in /usr/local/lib/python3.7/dist-packages (from packaging>=14.3->google-api-core[grpc]<3.0.0dev,>=1.22.1->firebase-admin) (3.0.9)\n",
            "Requirement already satisfied: pyasn1<0.5.0,>=0.4.6 in /usr/local/lib/python3.7/dist-packages (from pyasn1-modules>=0.2.1->google-auth<2.0dev,>=1.25.0->google-api-core[grpc]<3.0.0dev,>=1.22.1->firebase-admin) (0.4.8)\n",
            "Requirement already satisfied: urllib3<1.27,>=1.21.1 in /usr/local/lib/python3.7/dist-packages (from requests->cachecontrol>=0.12.6->firebase-admin) (1.24.3)\n",
            "Requirement already satisfied: charset-normalizer<3,>=2 in /usr/local/lib/python3.7/dist-packages (from requests->cachecontrol>=0.12.6->firebase-admin) (2.1.0)\n",
            "Requirement already satisfied: certifi>=2017.4.17 in /usr/local/lib/python3.7/dist-packages (from requests->cachecontrol>=0.12.6->firebase-admin) (2022.6.15)\n",
            "Requirement already satisfied: idna<4,>=2.5 in /usr/local/lib/python3.7/dist-packages (from requests->cachecontrol>=0.12.6->firebase-admin) (2.10)\n",
            "Installing collected packages: google-crc32c, google-resumable-media, google-cloud-core, google-cloud-storage, google-cloud-firestore, firebase-admin\n",
            "  Attempting uninstall: google-resumable-media\n",
            "    Found existing installation: google-resumable-media 0.4.1\n",
            "    Uninstalling google-resumable-media-0.4.1:\n",
            "      Successfully uninstalled google-resumable-media-0.4.1\n",
            "  Attempting uninstall: google-cloud-core\n",
            "    Found existing installation: google-cloud-core 1.7.3\n",
            "    Uninstalling google-cloud-core-1.7.3:\n",
            "      Successfully uninstalled google-cloud-core-1.7.3\n",
            "  Attempting uninstall: google-cloud-storage\n",
            "    Found existing installation: google-cloud-storage 1.18.1\n",
            "    Uninstalling google-cloud-storage-1.18.1:\n",
            "      Successfully uninstalled google-cloud-storage-1.18.1\n",
            "  Attempting uninstall: google-cloud-firestore\n",
            "    Found existing installation: google-cloud-firestore 1.7.0\n",
            "    Uninstalling google-cloud-firestore-1.7.0:\n",
            "      Successfully uninstalled google-cloud-firestore-1.7.0\n",
            "  Attempting uninstall: firebase-admin\n",
            "    Found existing installation: firebase-admin 4.4.0\n",
            "    Uninstalling firebase-admin-4.4.0:\n",
            "      Successfully uninstalled firebase-admin-4.4.0\n",
            "\u001b[31mERROR: pip's dependency resolver does not currently take into account all the packages that are installed. This behaviour is the source of the following dependency conflicts.\n",
            "google-cloud-translate 1.5.0 requires google-cloud-core<2.0dev,>=1.0.0, but you have google-cloud-core 2.3.2 which is incompatible.\n",
            "google-cloud-datastore 1.8.0 requires google-cloud-core<2.0dev,>=1.0.0, but you have google-cloud-core 2.3.2 which is incompatible.\n",
            "google-cloud-bigquery 1.21.0 requires google-cloud-core<2.0dev,>=1.0.3, but you have google-cloud-core 2.3.2 which is incompatible.\n",
            "google-cloud-bigquery 1.21.0 requires google-resumable-media!=0.4.0,<0.5.0dev,>=0.3.1, but you have google-resumable-media 2.3.3 which is incompatible.\u001b[0m\n",
            "Successfully installed firebase-admin-5.2.0 google-cloud-core-2.3.2 google-cloud-firestore-2.6.0 google-cloud-storage-2.5.0 google-crc32c-1.3.0 google-resumable-media-2.3.3\n"
          ]
        },
        {
          "output_type": "display_data",
          "data": {
            "application/vnd.colab-display-data+json": {
              "pip_warning": {
                "packages": [
                  "google"
                ]
              }
            }
          },
          "metadata": {}
        }
      ]
    },
    {
      "cell_type": "code",
      "source": [
        "NO LANZAR ESTO, ES CODIGO ANTIGUO\n",
        "\n",
        "#BIGQUERY IMPORTS\n",
        "from google.cloud import bigquery #For bigquerycredentials\n",
        "import apache_beam as beam #For apacheBeam\n",
        "from apache_beam.options.pipeline_options import PipelineOptions #For beam.io.ReadFromBigQuery\n",
        "\n",
        "##FIRESTORE imports\n",
        "import firebase_admin\n",
        "from firebase_admin import credentials\n",
        "from firebase_admin import firestore\n",
        "import json #Used to format object before save in firestore\n",
        "\n",
        "#FIRESTORE AND BIGQUERY IMPORTS\n",
        "from google.oauth2 import service_account #For credentials\n",
        "\n",
        "\n",
        "##Mount access to Drive\n",
        "from google.colab import drive\n",
        "drive.mount('/content/drive',force_remount=True)\n",
        "\n",
        "#Set credentials as global\n",
        "import os\n",
        "os.environ[\"GOOGLE_APPLICATION_CREDENTIALS\"]=\"drive/MyDrive/Ideas/movilidad/vacio-276411-service_account_for_colab.json\"\n",
        "\n",
        "##Get credentials\n",
        "key_path = 'drive/MyDrive/Ideas/movilidad/vacio-276411-service_account_for_colab.json'\n",
        "credentialsBigQuery = service_account.Credentials.from_service_account_file(\n",
        "    key_path, scopes=[\"https://www.googleapis.com/auth/cloud-platform\"],\n",
        ")\n",
        "client = bigquery.Client(credentials=credentialsBigQuery)\n",
        "\n",
        "#Options for ReadFromBigQuery\n",
        "options = PipelineOptions(\n",
        "    temp_location='gs://colab_temp/temp',\n",
        "    project ='vacio-276411')\n",
        "\n",
        "#CONSTANTS\n",
        "table_spec_bulkData_b = 'vacio-276411.mainDataset.bulkData_b'\n",
        "firestore_actual_info = \"vehicles_current_b\"\n",
        "\n",
        "\n",
        "\n",
        "#FIRESTORE configuration\n",
        "credentials_firestore = credentials.Certificate(key_path)\n",
        "\n",
        "firebase_admin.initialize_app(credentials_firestore, name=\"writeToFirestore18\")\n",
        "#firebase_admin.initialize_app(credentials_firestore)\n",
        "db_firestore = firestore.client()\n",
        "\n",
        "\n",
        "pipeline = beam.Pipeline(options=options)\n",
        "vehicles_location = (\n",
        "    pipeline\n",
        "    | 'QueryTable' >> beam.io.ReadFromBigQuery(query=query, use_standard_sql=True)\n",
        "    | \"FormatToFirestore\" >> beam.Map(prepare_to_save_in_firestore)\n",
        "    | \"SaveInFirestore\" >> beam.Map(save_firestore)\n",
        "    | \"print\" >> beam.Map(print_row)\n",
        ")\n",
        "\n",
        "pipeline.run()\n",
        "\"\"\""
      ],
      "metadata": {
        "id": "09iyE43j8ITV",
        "colab": {
          "base_uri": "https://localhost:8080/",
          "height": 135
        },
        "outputId": "db5c9eb8-b50b-49ec-decc-33043fe4f8f8"
      },
      "execution_count": null,
      "outputs": [
        {
          "output_type": "error",
          "ename": "SyntaxError",
          "evalue": "ignored",
          "traceback": [
            "\u001b[0;36m  File \u001b[0;32m\"<ipython-input-42-5ea53d393e91>\"\u001b[0;36m, line \u001b[0;32m60\u001b[0m\n\u001b[0;31m    \"\"\"\u001b[0m\n\u001b[0m       ^\u001b[0m\n\u001b[0;31mSyntaxError\u001b[0m\u001b[0;31m:\u001b[0m EOF while scanning triple-quoted string literal\n"
          ]
        }
      ]
    },
    {
      "cell_type": "markdown",
      "source": [
        "# Configuramos todo"
      ],
      "metadata": {
        "id": "tyWXhRZF5Pnq"
      }
    },
    {
      "cell_type": "code",
      "source": [
        "#BIGQUERY IMPORTS\n",
        "from google.cloud import bigquery #For bigquerycredentials\n",
        "import apache_beam as beam #For apacheBeam\n",
        "from apache_beam.options.pipeline_options import PipelineOptions #For beam.io.ReadFromBigQuery\n",
        "\n",
        "##FIRESTORE imports\n",
        "import firebase_admin\n",
        "from firebase_admin import credentials\n",
        "from firebase_admin import firestore\n",
        "import json #Used to format object before save in firestore\n",
        "\n",
        "#FIRESTORE AND BIGQUERY IMPORTS\n",
        "from google.oauth2 import service_account #For credentials\n",
        "\n",
        "\n",
        "##Mount access to Drive\n",
        "from google.colab import drive\n",
        "drive.mount('/content/drive',force_remount=True)\n",
        "\n",
        "#Set credentials as global\n",
        "import os\n",
        "os.environ[\"GOOGLE_APPLICATION_CREDENTIALS\"]=\"drive/MyDrive/Ideas/movilidad/vacio-276411-service_account_for_colab.json\"\n",
        "\n",
        "##Get credentials\n",
        "key_path = 'drive/MyDrive/Ideas/movilidad/vacio-276411-service_account_for_colab.json'\n",
        "credentialsBigQuery = service_account.Credentials.from_service_account_file(\n",
        "    key_path, scopes=[\"https://www.googleapis.com/auth/cloud-platform\"],\n",
        ")\n",
        "client = bigquery.Client(credentials=credentialsBigQuery)\n",
        "\n",
        "#Options for ReadFromBigQuery\n",
        "options = PipelineOptions(\n",
        "    temp_location='gs://colab_temp/temp',\n",
        "    project ='vacio-276411')\n",
        "\n",
        "\n",
        "#FIRESTORE configuration\n",
        "credentials_firestore = credentials.Certificate(key_path)\n",
        "\n",
        "#firebase_admin.initialize_app(credentials_firestore, name=\"writeToFirestore17\")\n",
        "firebase_admin.initialize_app(credentials_firestore)\n",
        "db_firestore = firestore.client()"
      ],
      "metadata": {
        "colab": {
          "base_uri": "https://localhost:8080/"
        },
        "id": "mNqkWbeP5RqX",
        "outputId": "ebfe10ad-fc38-4da0-a324-fb1bfe38e5f5"
      },
      "execution_count": null,
      "outputs": [
        {
          "output_type": "stream",
          "name": "stdout",
          "text": [
            "Mounted at /content/drive\n"
          ]
        }
      ]
    },
    {
      "cell_type": "markdown",
      "source": [
        "Constants"
      ],
      "metadata": {
        "id": "6wWwFtQB31A7"
      }
    },
    {
      "cell_type": "code",
      "source": [
        "#CONSTANTS\n",
        "table_spec_bulkData_b = 'vacio-276411.mainDataset.bulkData_b'\n",
        "firestore_actual_info = \"vehicles_current_b\"\n",
        "#DIC global for all notebook\n",
        "dict_old_locations = {}\n",
        "last_uoid = ''"
      ],
      "metadata": {
        "id": "UxpXJ-6X32Ah"
      },
      "execution_count": null,
      "outputs": []
    },
    {
      "cell_type": "markdown",
      "source": [
        "Variable para debuguear procesos"
      ],
      "metadata": {
        "id": "LLocjVARiyJc"
      }
    },
    {
      "cell_type": "code",
      "source": [
        "in_debug = False"
      ],
      "metadata": {
        "id": "qrOv21nRiwr4"
      },
      "execution_count": null,
      "outputs": []
    },
    {
      "cell_type": "markdown",
      "source": [
        "# Recogemos datos de Firestore"
      ],
      "metadata": {
        "id": "_ByaoaHrI5AK"
      }
    },
    {
      "cell_type": "code",
      "source": [
        "def get_firestore_old_situation():\n",
        "  #CONSTANTS\n",
        "\n",
        "  docs = db_firestore.collection(firestore_actual_info).get()\n",
        "\n",
        "  #TODO: FInd another idea to convert Firebase collection to python dict\n",
        "  for doc in docs:\n",
        "    #print(f'{doc.id} => {doc.to_dict()}')\n",
        "    dict_old_locations[doc.id] = doc.to_dict()\n",
        "\n",
        "  print('Vehicles in Firestore: ' +  str(len(dict_old_locations)))\n",
        "  #print(dict_old_locations)\n",
        "\n"
      ],
      "metadata": {
        "id": "sEORPTjDI4Cc"
      },
      "execution_count": null,
      "outputs": []
    },
    {
      "cell_type": "markdown",
      "source": [
        "# Comparamos las ubicaciones antiguas con las nuevas"
      ],
      "metadata": {
        "id": "FNBiAFStMYya"
      }
    },
    {
      "cell_type": "markdown",
      "source": [
        "Recogemos el id de los datos mas recientes"
      ],
      "metadata": {
        "id": "EqpzOyXJ3IIo"
      }
    },
    {
      "cell_type": "code",
      "source": [
        "def get_last_uoid():\n",
        "  query = \"\"\"\n",
        "      SELECT uoid, epochTime FROM `vacio-276411.mainDataset.bulkData_b` \n",
        "      ORDER BY epochTime DESC\n",
        "      LIMIT 1\n",
        "  \"\"\"\n",
        "  query_job = client.query(query)  # Make an API request.\n",
        "\n",
        "\n",
        "  print(\"The query data:\") if in_debug else ''\n",
        "  for row in query_job:\n",
        "      print(\"name={}\".format(row[0])) if in_debug else ''\n",
        "      last_uoid = row[0]\n",
        "\n",
        "  return last_uoid"
      ],
      "metadata": {
        "id": "3Y0NsQy83HOp"
      },
      "execution_count": null,
      "outputs": []
    },
    {
      "cell_type": "markdown",
      "source": [
        "Cantidad de vehiculos en este flujo (no necesario para el proceso)"
      ],
      "metadata": {
        "id": "YaDh38Kl8siv"
      }
    },
    {
      "cell_type": "code",
      "source": [
        "query = ' '.join((\"SELECT COUNT(*) FROM `vacio-276411.mainDataset.bulkData_b`\",\n",
        "        \" WHERE uoid = '\" + last_uoid +\"'\"))\n",
        "\n",
        "query_job = client.query(query)  # Make an API request.\n",
        "\n",
        "for row in query_job:\n",
        "    print(\"In this iteration there are: \" + str(row[0]) + \" vehicles\")"
      ],
      "metadata": {
        "colab": {
          "base_uri": "https://localhost:8080/"
        },
        "id": "Mw8zbJZg8wKp",
        "outputId": "58485331-ed99-425d-a2f9-63dddffd915e"
      },
      "execution_count": null,
      "outputs": [
        {
          "output_type": "stream",
          "name": "stdout",
          "text": [
            "In this iteration there are: 156 vehicles\n"
          ]
        }
      ]
    },
    {
      "cell_type": "markdown",
      "source": [
        "### Funcion para guardar en Firestore\n",
        "- Necesita convertir el formato de los datos BigQuery NUMERIC a float para poder guardarlos en Firestore NUMERIC"
      ],
      "metadata": {
        "id": "nZF9SoxvasZ7"
      }
    },
    {
      "cell_type": "code",
      "source": [
        "def prepare_to_save_in_firestore(row):\n",
        "  print('[FUNC]prepare_to_save_in_firestore') if in_debug else ''\n",
        "  row['energia'] = float(row['energia'])\n",
        "  row['latitud'] = float(row['latitud'])\n",
        "  row['longitud'] = float(row['longitud'])\n",
        "  row['epochTime'] = float(row['epochTime'])\n",
        "  row['autonomyValue'] = float(row['autonomyValue'])\n",
        "  row['seats'] = float(row['seats'])\n",
        "  print(row) if in_debug else ''\n",
        "  return row"
      ],
      "metadata": {
        "id": "G7J1_Wqnanz8"
      },
      "execution_count": null,
      "outputs": []
    },
    {
      "cell_type": "markdown",
      "source": [
        "### TODO: Add comment"
      ],
      "metadata": {
        "id": "dlcoT_y2iRbY"
      }
    },
    {
      "cell_type": "code",
      "source": [
        "def save_firestore(row):\n",
        "    print('[FUNC]save_firestore') if in_debug else ''\n",
        "    print(row) if in_debug else ''\n",
        "    key = row['matricula']\n",
        "    print(key) if in_debug else ''\n",
        "    doc_ref = db_firestore.collection(firestore_actual_info).document(key)\n",
        "    doc_ref.set(row)\n",
        "    #Return row to continue with data\n",
        "    return row"
      ],
      "metadata": {
        "id": "W_6pC2SLh52a"
      },
      "execution_count": null,
      "outputs": []
    },
    {
      "cell_type": "markdown",
      "source": [
        "### TODO: Add comment"
      ],
      "metadata": {
        "id": "qCrdnSZpiYxA"
      }
    },
    {
      "cell_type": "code",
      "source": [
        "def check_movements(row):\n",
        "  print('[FUNC]check_movements') if in_debug else ''\n",
        "  plate = row['matricula']\n",
        "\n",
        "  #Check if plate exist in firebase database\n",
        "  if plate not in dict_old_locations.keys():\n",
        "    print('[check_movements]New vehicle')\n",
        "    print(row)\n",
        "    #NO process\n",
        "    return row\n",
        "\n",
        "  new_latitude = row['latitud']\n",
        "  old_latitude = dict_old_locations[plate]['latitud']\n",
        "\n",
        "  new_longitude = row['longitud']\n",
        "  old_longitude = dict_old_locations[plate]['longitud']\n",
        "\n",
        "  if(new_latitude == old_latitude and new_longitude == old_longitude):\n",
        "    print('[check_movements] Son iguales') if in_debug else ''\n",
        "  else:\n",
        "    print('[check_movements] Son distintas')\n",
        "    print(new_latitude, old_latitude, new_longitude, old_longitude)\n",
        "\n",
        "  return row"
      ],
      "metadata": {
        "id": "iSoJ3GCFeffj"
      },
      "execution_count": null,
      "outputs": []
    },
    {
      "cell_type": "markdown",
      "source": [
        "### Get new information from BigQuery"
      ],
      "metadata": {
        "id": "kskit1hzie8Y"
      }
    },
    {
      "cell_type": "code",
      "source": [
        "\"\"\" QUERY ONLY TWO VEHICLES\n",
        "query = ' '.join((\"SELECT * FROM `vacio-276411.mainDataset.bulkData_b`\"\n",
        "        \" WHERE idVehiculo = 'ZACNJDAB0MPN19718' OR idVehiculo = '1G1BE5SM0K7113537' \",\n",
        "        \"ORDER BY realTime DESC\",\n",
        "        \"LIMIT 2\"))\n",
        "\"\"\"\n",
        "\n",
        "def update_query(last_uoid):\n",
        "  query = ' '.join((\"SELECT * FROM `vacio-276411.mainDataset.bulkData_b`\"\n",
        "          \" WHERE uoid = '\" + last_uoid +\"'\",\n",
        "          \"ORDER BY realTime DESC\"))\n",
        "  return query\n"
      ],
      "metadata": {
        "id": "ZjvFHAeQiktL"
      },
      "execution_count": null,
      "outputs": []
    },
    {
      "cell_type": "markdown",
      "source": [
        "### Print row"
      ],
      "metadata": {
        "id": "9HajpsvQ6-DW"
      }
    },
    {
      "cell_type": "code",
      "source": [
        "def print_row(row):\n",
        "    print(row)"
      ],
      "metadata": {
        "id": "EoUdehcD6_sS"
      },
      "execution_count": null,
      "outputs": []
    },
    {
      "cell_type": "code",
      "source": [
        "from datetime import datetime\n",
        "def print_time(row):\n",
        "  now = datetime.now()\n",
        "  current_time = now.strftime(\"%H:%M:%S\")\n",
        "  print(\"Current Time =\", current_time)\n",
        "  return row"
      ],
      "metadata": {
        "id": "ALh-kMS8Mx8t"
      },
      "execution_count": null,
      "outputs": []
    },
    {
      "cell_type": "markdown",
      "source": [
        "### TODO: Add comment"
      ],
      "metadata": {
        "id": "2SUITsicibyy"
      }
    },
    {
      "cell_type": "code",
      "source": [
        "#First update old situation\n",
        "get_firestore_old_situation()\n",
        "#Get last uoid\n",
        "last_uoid =  get_last_uoid()\n",
        "#Update query with last uoid\n",
        "last_uoid = '27f342be-174a-4278-88aa-8fbb8b9ce0e6'\n",
        "last_uoid = 'a2e360d5-e5b9-4cac-8893-ac9d911a94f3'\n",
        "last_uoid = '9719a677-68ee-46b8-befd-1b15c62c5012'\n",
        "query = update_query(last_uoid)\n",
        "\n",
        "\n",
        "pipeline = beam.Pipeline(options=options)\n",
        "vehicles_location = (\n",
        "    pipeline\n",
        "    | 'QueryTable' >> beam.io.ReadFromBigQuery(query=query, use_standard_sql=True)\n",
        "    #| 'PrintTime1' >> beam.Map(print_time)\n",
        "    | \"FormatToFirestore\" >> beam.Map(prepare_to_save_in_firestore)\n",
        "    | \"SaveInFirestore\" >> beam.Map(save_firestore)\n",
        "    | \"CalculateMovements\" >> beam.Map(check_movements)\n",
        "    #| \"print\" >> beam.Map(print_row)\n",
        ")\n",
        "\n",
        "#pipeline.run()\n",
        "\n",
        "result = pipeline.run()\n",
        "metrics = result.metrics()\n",
        "metricResults = metrics.GAUGES\n",
        "metricResults\n"
      ],
      "metadata": {
        "id": "LoYMvjLAMXBB",
        "colab": {
          "base_uri": "https://localhost:8080/",
          "height": 1000
        },
        "outputId": "76b498d1-ec8c-4fb2-d962-0ca1b73e3dac"
      },
      "execution_count": null,
      "outputs": [
        {
          "output_type": "stream",
          "name": "stdout",
          "text": [
            "Vehicles in Firestore: 619\n"
          ]
        },
        {
          "output_type": "stream",
          "name": "stderr",
          "text": [
            "WARNING:apache_beam.options.pipeline_options:Discarding unparseable args: ['-f', '/root/.local/share/jupyter/runtime/kernel-ad102a25-3134-4698-946d-4366743a6d7d.json']\n",
            "WARNING:apache_beam.options.pipeline_options:Discarding unparseable args: ['-f', '/root/.local/share/jupyter/runtime/kernel-ad102a25-3134-4698-946d-4366743a6d7d.json']\n",
            "WARNING:apache_beam.io.gcp.bigquery_tools:Dataset vacio-276411:beam_temp_dataset_8fc556f6f81a4b49ab374554be84a909 does not exist so we will create it as temporary with location=europe-west3\n"
          ]
        },
        {
          "output_type": "stream",
          "name": "stdout",
          "text": [
            "[check_movements] Son distintas\n",
            "40.464288 40.454182 -3.688986 -3.682985\n",
            "[check_movements] Son distintas\n",
            "40.458051 40.472157 -3.697244 -3.68371\n",
            "[check_movements] Son distintas\n",
            "40.461283 40.456496 -3.674118 -3.679822\n",
            "[check_movements] Son distintas\n",
            "40.489222 40.402858 -3.64807 -3.677254\n",
            "[check_movements] Son distintas\n",
            "40.438182 40.477366 -3.684801 -3.699015\n",
            "[check_movements] Son distintas\n",
            "40.449798 40.444026 -3.687211 -3.665838\n",
            "[check_movements] Son distintas\n",
            "40.42729 40.476864 -3.701186 -3.738568\n",
            "[check_movements]New vehicle\n",
            "{'city': 'Madrid', 'servicio': 'free2move', 'idVehiculo': 'VR3UHZKXZMT016708', 'matricula': '3408LNB', 'energia': 39.0, 'latitud': 40.418336, 'longitud': -3.664079, 'tipo': 'coche', 'categoria': 'Peugeot e-208', 'imagen': 'e-208-white.png', 'uoid': '9719a677-68ee-46b8-befd-1b15c62c5012', 'epochTime': 1659600000.3161585, 'realTime': '08/04/2022 08:00:00', 'geo': 'POINT(-3.664079 40.418336)', 'timestamp': datetime.datetime(2022, 8, 4, 6, 0, 0, 316159, tzinfo=datetime.timezone.utc), 'tipoVehiculo': 'coche', 'code': '0943', 'autonomyValue': 87.0, 'autonomyUnit': 'km', 'transmission': 'automatic', 'color': 'white', 'range': 'economy', 'fuel': 'electric', 'seats': 5.0, 'babySeat': False, 'boosterSeat': False, 'discounted': False, 'operatingSystemName': 'vulog', 'operationSystemFleetId': 'PSA-ESMDD', 'operationSystemVehicleDescriptionId': '4a3b24a0-ae8f-4986-8399-7e8f307b29ee'}\n",
            "[check_movements] Son distintas\n",
            "40.433472 40.423632 -3.695229 -3.669562\n",
            "[check_movements] Son distintas\n",
            "40.422371 40.470646 -3.687378 -3.673114\n",
            "[check_movements]New vehicle\n",
            "{'city': 'Madrid', 'servicio': 'free2move', 'idVehiculo': 'VR3UHZKXZLT124019', 'matricula': '2379LLV', 'energia': 31.0, 'latitud': 40.409955, 'longitud': -3.646186, 'tipo': 'coche', 'categoria': 'Peugeot e-208', 'imagen': 'e-208-white.png', 'uoid': '9719a677-68ee-46b8-befd-1b15c62c5012', 'epochTime': 1659600000.3161585, 'realTime': '08/04/2022 08:00:00', 'geo': 'POINT(-3.646186 40.409955)', 'timestamp': datetime.datetime(2022, 8, 4, 6, 0, 0, 316159, tzinfo=datetime.timezone.utc), 'tipoVehiculo': 'coche', 'code': '0861', 'autonomyValue': 63.0, 'autonomyUnit': 'km', 'transmission': 'automatic', 'color': 'white', 'range': 'economy', 'fuel': 'electric', 'seats': 5.0, 'babySeat': False, 'boosterSeat': False, 'discounted': False, 'operatingSystemName': 'vulog', 'operationSystemFleetId': 'PSA-ESMDD', 'operationSystemVehicleDescriptionId': 'b429a126-0c69-439e-8595-78ac69c22082'}\n",
            "[check_movements] Son distintas\n",
            "40.454678 40.439139 -3.700484 -3.713496\n",
            "[check_movements] Son distintas\n",
            "40.437542 40.467178 -3.711495 -3.631506\n",
            "[check_movements] Son distintas\n",
            "40.456694 40.485946 -3.694492 -3.706611\n",
            "[check_movements] Son distintas\n",
            "40.529712 40.521475 -3.648561 -3.65858\n",
            "[check_movements] Son distintas\n",
            "40.443952 40.456074 -3.666344 -3.660544\n",
            "[check_movements] Son distintas\n",
            "40.422275 40.492554 -3.673636 -3.655618\n",
            "[check_movements] Son distintas\n",
            "40.475264 40.503197 -3.688366 -3.700226\n",
            "[check_movements]New vehicle\n",
            "{'city': 'Madrid', 'servicio': 'free2move', 'idVehiculo': 'VR3UHZKXZLT123992', 'matricula': '4128LLG', 'energia': 63.0, 'latitud': 40.425338, 'longitud': -3.696265, 'tipo': 'coche', 'categoria': 'Peugeot e-208', 'imagen': 'e-208-white.png', 'uoid': '9719a677-68ee-46b8-befd-1b15c62c5012', 'epochTime': 1659600000.3161585, 'realTime': '08/04/2022 08:00:00', 'geo': 'POINT(-3.696265 40.425338)', 'timestamp': datetime.datetime(2022, 8, 4, 6, 0, 0, 316159, tzinfo=datetime.timezone.utc), 'tipoVehiculo': 'coche', 'code': '0888', 'autonomyValue': 159.0, 'autonomyUnit': 'km', 'transmission': 'automatic', 'color': 'white', 'range': 'economy', 'fuel': 'electric', 'seats': 5.0, 'babySeat': False, 'boosterSeat': False, 'discounted': False, 'operatingSystemName': 'vulog', 'operationSystemFleetId': 'PSA-ESMDD', 'operationSystemVehicleDescriptionId': 'ef75148a-10f9-4258-a717-3880712a6c29'}\n",
            "[check_movements] Son distintas\n",
            "40.430608 40.460448 -3.717606 -3.689455\n",
            "[check_movements] Son distintas\n",
            "40.422944 40.409446 -3.68715 -3.712708\n",
            "[check_movements] Son distintas\n",
            "40.428038 40.409981 -3.69182 -3.677286\n",
            "[check_movements] Son distintas\n",
            "40.495555 40.474448 -3.669316 -3.704348\n",
            "[check_movements]New vehicle\n",
            "{'city': 'Madrid', 'servicio': 'free2move', 'idVehiculo': 'VR79AZ2CAM5829886', 'matricula': 'C8246BWL', 'energia': 96.0, 'latitud': 40.425706, 'longitud': -3.671419, 'tipo': 'coche', 'categoria': 'Citroën AMI', 'imagen': 'pastille-atencion-es-ami-v-1.png', 'uoid': '9719a677-68ee-46b8-befd-1b15c62c5012', 'epochTime': 1659600000.3161585, 'realTime': '08/04/2022 08:00:00', 'geo': 'POINT(-3.671419 40.425706)', 'timestamp': datetime.datetime(2022, 8, 4, 6, 0, 0, 316159, tzinfo=datetime.timezone.utc), 'tipoVehiculo': 'coche', 'code': '1027', 'autonomyValue': 71.0, 'autonomyUnit': 'km', 'transmission': 'automatic', 'color': '', 'range': 'micro', 'fuel': 'electric', 'seats': 2.0, 'babySeat': False, 'boosterSeat': False, 'discounted': False, 'operatingSystemName': 'vulog', 'operationSystemFleetId': 'PSA-ESMDD', 'operationSystemVehicleDescriptionId': 'cf5d4faa-f628-4f0b-b89f-564e9af2a12b'}\n",
            "[check_movements]New vehicle\n",
            "{'city': 'Madrid', 'servicio': 'free2move', 'idVehiculo': 'VR3UHZKXZLT001914', 'matricula': '1154LFX', 'energia': 37.0, 'latitud': 40.451936, 'longitud': -3.674158, 'tipo': 'coche', 'categoria': 'Peugeot e-208', 'imagen': 'e-208-white.png', 'uoid': '9719a677-68ee-46b8-befd-1b15c62c5012', 'epochTime': 1659600000.3161585, 'realTime': '08/04/2022 08:00:00', 'geo': 'POINT(-3.674158 40.451936)', 'timestamp': datetime.datetime(2022, 8, 4, 6, 0, 0, 316159, tzinfo=datetime.timezone.utc), 'tipoVehiculo': 'coche', 'code': '0623', 'autonomyValue': 81.0, 'autonomyUnit': 'km', 'transmission': 'automatic', 'color': 'white', 'range': 'economy', 'fuel': 'electric', 'seats': 5.0, 'babySeat': False, 'boosterSeat': False, 'discounted': False, 'operatingSystemName': 'vulog', 'operationSystemFleetId': 'PSA-ESMDD', 'operationSystemVehicleDescriptionId': '78bd711e-3435-466e-87a2-9ba731301343'}\n",
            "[check_movements] Son distintas\n",
            "40.430477 40.445066 -3.673718 -3.696604\n",
            "[check_movements] Son distintas\n",
            "40.45961 40.429638 -3.695742 -3.641747\n",
            "[check_movements] Son distintas\n",
            "40.438109 40.426246 -3.684202 -3.697941\n",
            "[check_movements] Son distintas\n",
            "40.448147 40.403613 -3.690696 -3.68113\n",
            "[check_movements] Son distintas\n",
            "40.462746 40.450598 -3.689142 -3.708814\n",
            "[check_movements] Son distintas\n",
            "40.428198 40.393139 -3.69348 -3.692504\n",
            "[check_movements] Son distintas\n",
            "40.452832 40.452938 -3.695656 -3.706856\n",
            "[check_movements]New vehicle\n",
            "{'city': 'Madrid', 'servicio': 'free2move', 'idVehiculo': 'VR3UHZKXZMT081908', 'matricula': '4030LTH', 'energia': 48.0, 'latitud': 40.430438, 'longitud': -3.68528, 'tipo': 'coche', 'categoria': 'Peugeot e-208', 'imagen': 'e-208-white.png', 'uoid': '9719a677-68ee-46b8-befd-1b15c62c5012', 'epochTime': 1659600000.3161585, 'realTime': '08/04/2022 08:00:00', 'geo': 'POINT(-3.68528 40.430438)', 'timestamp': datetime.datetime(2022, 8, 4, 6, 0, 0, 316159, tzinfo=datetime.timezone.utc), 'tipoVehiculo': 'coche', 'code': '1116', 'autonomyValue': 114.0, 'autonomyUnit': 'km', 'transmission': 'automatic', 'color': 'white', 'range': 'economy', 'fuel': 'electric', 'seats': 5.0, 'babySeat': False, 'boosterSeat': False, 'discounted': False, 'operatingSystemName': 'vulog', 'operationSystemFleetId': 'PSA-ESMDD', 'operationSystemVehicleDescriptionId': '011e9718-0957-4331-9f29-09ae43fc6b0c'}\n",
            "[check_movements] Son distintas\n",
            "40.458349 40.438291 -3.695132 -3.694593\n",
            "[check_movements] Son distintas\n",
            "40.426854 40.401299 -3.668086 -3.668243\n",
            "[check_movements] Son distintas\n",
            "40.411347 40.40871 -3.659999 -3.665522\n",
            "[check_movements] Son distintas\n",
            "40.510483 40.459635 -3.67599 -3.694999\n",
            "[check_movements] Son distintas\n",
            "40.419587 40.439046 -3.666268 -3.661002\n",
            "[check_movements] Son distintas\n",
            "40.396634 40.468378 -3.69627 -3.698398\n",
            "[check_movements] Son distintas\n",
            "40.453914 40.424794 -3.692707 -3.695711\n",
            "[check_movements]New vehicle\n",
            "{'city': 'Madrid', 'servicio': 'free2move', 'idVehiculo': 'VR3UHZKXZMT018704', 'matricula': '1786LND', 'energia': 99.0, 'latitud': 40.415072, 'longitud': -3.670219, 'tipo': 'coche', 'categoria': 'Peugeot e-208', 'imagen': 'e-208-white.png', 'uoid': '9719a677-68ee-46b8-befd-1b15c62c5012', 'epochTime': 1659600000.3161585, 'realTime': '08/04/2022 08:00:00', 'geo': 'POINT(-3.670219 40.415072)', 'timestamp': datetime.datetime(2022, 8, 4, 6, 0, 0, 316159, tzinfo=datetime.timezone.utc), 'tipoVehiculo': 'coche', 'code': '0957', 'autonomyValue': 267.0, 'autonomyUnit': 'km', 'transmission': 'automatic', 'color': 'white', 'range': 'economy', 'fuel': 'electric', 'seats': 5.0, 'babySeat': False, 'boosterSeat': False, 'discounted': False, 'operatingSystemName': 'vulog', 'operationSystemFleetId': 'PSA-ESMDD', 'operationSystemVehicleDescriptionId': 'daf755b8-0de5-4f91-988b-6d8aaca4258c'}\n",
            "[check_movements] Son distintas\n",
            "40.44407 40.452074 -3.715203 -3.710443\n",
            "[check_movements] Son distintas\n",
            "40.428173 40.467901 -3.670653 -3.677774\n",
            "[check_movements] Son distintas\n",
            "40.415427 40.415558 -3.670772 -3.670805\n",
            "[check_movements] Son distintas\n",
            "40.430269 40.473581 -3.705518 -3.675861\n",
            "[check_movements] Son distintas\n",
            "40.445962 40.432077 -3.648678 -3.654101\n",
            "[check_movements] Son distintas\n",
            "40.452656 40.452659 -3.656105 -3.656068\n",
            "[check_movements] Son distintas\n",
            "40.41401 40.439683 -3.664552 -3.653365\n",
            "[check_movements] Son distintas\n",
            "40.461632 40.441251 -3.695589 -3.670565\n",
            "[check_movements] Son distintas\n",
            "40.439802 40.396918 -3.716802 -3.700976\n",
            "[check_movements] Son distintas\n",
            "40.453437 40.469136 -3.713055 -3.697886\n"
          ]
        },
        {
          "output_type": "execute_result",
          "data": {
            "text/plain": [
              "'gauges'"
            ],
            "application/vnd.google.colaboratory.intrinsic+json": {
              "type": "string"
            }
          },
          "metadata": {},
          "execution_count": 111
        }
      ]
    }
  ]
}