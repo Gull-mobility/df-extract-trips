{
  "cells": [
    {
      "cell_type": "markdown",
      "metadata": {
        "id": "44GOyT_-01Qy"
      },
      "source": [
        "Import patra trabajar con GCP"
      ]
    },
    {
      "cell_type": "code",
      "execution_count": null,
      "metadata": {
        "colab": {
          "base_uri": "https://localhost:8080/",
          "height": 1000
        },
        "id": "4n6-5Wvr1vbe",
        "outputId": "8fc14bca-7dcb-4dac-aa10-731d2e933955"
      },
      "outputs": [],
      "source": [
        "pip install apache-beam[gcp]"
      ]
    },
    {
      "cell_type": "markdown",
      "metadata": {
        "id": "R_vGfdnKQBG1"
      },
      "source": [
        "#After install apache beam is important reset the enviorment"
      ]
    },
    {
      "cell_type": "code",
      "execution_count": null,
      "metadata": {
        "colab": {
          "base_uri": "https://localhost:8080/",
          "height": 1000
        },
        "id": "O87dB70a2rfE",
        "outputId": "9ac46018-05a9-492d-9180-8e5421db2919"
      },
      "outputs": [],
      "source": [
        "pip install --upgrade firebase-admin"
      ]
    },
    {
      "cell_type": "markdown",
      "metadata": {
        "id": "tyWXhRZF5Pnq"
      },
      "source": [
        "# Configuramos todo"
      ]
    },
    {
      "cell_type": "code",
      "execution_count": 4,
      "metadata": {
        "colab": {
          "base_uri": "https://localhost:8080/"
        },
        "id": "mNqkWbeP5RqX",
        "outputId": "ebfe10ad-fc38-4da0-a324-fb1bfe38e5f5"
      },
      "outputs": [
        {
          "name": "stdout",
          "output_type": "stream",
          "text": [
            "Mounted at /content/drive\n"
          ]
        }
      ],
      "source": [
        "#BIGQUERY IMPORTS\n",
        "from google.cloud import bigquery #For bigquerycredentials\n",
        "import apache_beam as beam #For apacheBeam\n",
        "from apache_beam.options.pipeline_options import PipelineOptions #For beam.io.ReadFromBigQuery\n",
        "\n",
        "##FIRESTORE imports\n",
        "import firebase_admin\n",
        "from firebase_admin import credentials\n",
        "from firebase_admin import firestore\n",
        "import json #Used to format object before save in firestore\n",
        "\n",
        "#FIRESTORE AND BIGQUERY IMPORTS\n",
        "from google.oauth2 import service_account #For credentials\n",
        "\n",
        "\n",
        "##Mount access to Drive\n",
        "from google.colab import drive\n",
        "drive.mount('/content/drive',force_remount=True)\n",
        "\n",
        "#Set credentials as global\n",
        "import os\n",
        "os.environ[\"GOOGLE_APPLICATION_CREDENTIALS\"]=\"drive/MyDrive/Ideas/movilidad/vacio-276411-service_account_for_colab.json\"\n",
        "\n",
        "##Get credentials\n",
        "key_path = 'drive/MyDrive/Ideas/movilidad/vacio-276411-service_account_for_colab.json'\n",
        "credentialsBigQuery = service_account.Credentials.from_service_account_file(\n",
        "    key_path, scopes=[\"https://www.googleapis.com/auth/cloud-platform\"],\n",
        ")\n",
        "client = bigquery.Client(credentials=credentialsBigQuery)\n",
        "\n",
        "#Options for ReadFromBigQuery\n",
        "options = PipelineOptions(\n",
        "    temp_location='gs://colab_temp/temp',\n",
        "    project ='vacio-276411')\n",
        "\n",
        "\n",
        "#FIRESTORE configuration\n",
        "credentials_firestore = credentials.Certificate(key_path)\n",
        "\n",
        "#firebase_admin.initialize_app(credentials_firestore, name=\"writeToFirestore17\")\n",
        "firebase_admin.initialize_app(credentials_firestore)\n",
        "db_firestore = firestore.client()"
      ]
    },
    {
      "cell_type": "markdown",
      "metadata": {
        "id": "6wWwFtQB31A7"
      },
      "source": [
        "Constants"
      ]
    },
    {
      "cell_type": "code",
      "execution_count": 61,
      "metadata": {
        "id": "UxpXJ-6X32Ah"
      },
      "outputs": [],
      "source": [
        "#CONSTANTS\n",
        "table_spec_bulkData_b = 'vacio-276411.mainDataset.bulkData_b'\n",
        "firestore_actual_info = \"vehicles_current_b\"\n",
        "#DIC global for all notebook\n",
        "dict_old_locations = {}\n",
        "last_uoid = ''"
      ]
    },
    {
      "cell_type": "markdown",
      "metadata": {
        "id": "LLocjVARiyJc"
      },
      "source": [
        "Variable para debuguear procesos"
      ]
    },
    {
      "cell_type": "code",
      "execution_count": 7,
      "metadata": {
        "id": "qrOv21nRiwr4"
      },
      "outputs": [],
      "source": [
        "in_debug = False"
      ]
    },
    {
      "cell_type": "markdown",
      "metadata": {
        "id": "_ByaoaHrI5AK"
      },
      "source": [
        "# Recogemos datos de Firestore"
      ]
    },
    {
      "cell_type": "code",
      "execution_count": 62,
      "metadata": {
        "id": "sEORPTjDI4Cc"
      },
      "outputs": [],
      "source": [
        "def get_firestore_old_situation():\n",
        "  #CONSTANTS\n",
        "\n",
        "  docs = db_firestore.collection(firestore_actual_info).get()\n",
        "\n",
        "  #TODO: FInd another idea to convert Firebase collection to python dict\n",
        "  for doc in docs:\n",
        "    #print(f'{doc.id} => {doc.to_dict()}')\n",
        "    dict_old_locations[doc.id] = doc.to_dict()\n",
        "\n",
        "  print('Vehicles in Firestore: ' +  str(len(dict_old_locations)))\n",
        "  #print(dict_old_locations)\n",
        "\n"
      ]
    },
    {
      "cell_type": "markdown",
      "metadata": {
        "id": "FNBiAFStMYya"
      },
      "source": [
        "# Comparamos las ubicaciones antiguas con las nuevas"
      ]
    },
    {
      "cell_type": "markdown",
      "metadata": {
        "id": "EqpzOyXJ3IIo"
      },
      "source": [
        "Recogemos el id de los datos mas recientes"
      ]
    },
    {
      "cell_type": "code",
      "execution_count": 84,
      "metadata": {
        "id": "3Y0NsQy83HOp"
      },
      "outputs": [],
      "source": [
        "def get_last_uoid():\n",
        "  query = \"\"\"\n",
        "      SELECT uoid, epochTime FROM `vacio-276411.mainDataset.bulkData_b` \n",
        "      ORDER BY epochTime DESC\n",
        "      LIMIT 1\n",
        "  \"\"\"\n",
        "  query_job = client.query(query)  # Make an API request.\n",
        "\n",
        "\n",
        "  print(\"The query data:\") if in_debug else ''\n",
        "  for row in query_job:\n",
        "      print(\"name={}\".format(row[0])) if in_debug else ''\n",
        "      last_uoid = row[0]\n",
        "\n",
        "  return last_uoid"
      ]
    },
    {
      "cell_type": "markdown",
      "metadata": {
        "id": "YaDh38Kl8siv"
      },
      "source": [
        "Cantidad de vehiculos en este flujo (no necesario para el proceso)"
      ]
    },
    {
      "cell_type": "code",
      "execution_count": 64,
      "metadata": {
        "colab": {
          "base_uri": "https://localhost:8080/"
        },
        "id": "Mw8zbJZg8wKp",
        "outputId": "58485331-ed99-425d-a2f9-63dddffd915e"
      },
      "outputs": [
        {
          "name": "stdout",
          "output_type": "stream",
          "text": [
            "In this iteration there are: 156 vehicles\n"
          ]
        }
      ],
      "source": [
        "query = ' '.join((\"SELECT COUNT(*) FROM `vacio-276411.mainDataset.bulkData_b`\",\n",
        "        \" WHERE uoid = '\" + last_uoid +\"'\"))\n",
        "\n",
        "query_job = client.query(query)  # Make an API request.\n",
        "\n",
        "for row in query_job:\n",
        "    print(\"In this iteration there are: \" + str(row[0]) + \" vehicles\")"
      ]
    },
    {
      "cell_type": "markdown",
      "metadata": {
        "id": "nZF9SoxvasZ7"
      },
      "source": [
        "### Funcion para guardar en Firestore\n",
        "- Necesita convertir el formato de los datos BigQuery NUMERIC a float para poder guardarlos en Firestore NUMERIC"
      ]
    },
    {
      "cell_type": "code",
      "execution_count": 65,
      "metadata": {
        "id": "G7J1_Wqnanz8"
      },
      "outputs": [],
      "source": [
        "def prepare_to_save_in_firestore(row):\n",
        "  print('[FUNC]prepare_to_save_in_firestore') if in_debug else ''\n",
        "  row['energia'] = float(row['energia'])\n",
        "  row['latitud'] = float(row['latitud'])\n",
        "  row['longitud'] = float(row['longitud'])\n",
        "  row['epochTime'] = float(row['epochTime'])\n",
        "  row['autonomyValue'] = float(row['autonomyValue'])\n",
        "  row['seats'] = float(row['seats'])\n",
        "  print(row) if in_debug else ''\n",
        "  return row"
      ]
    },
    {
      "cell_type": "markdown",
      "metadata": {
        "id": "dlcoT_y2iRbY"
      },
      "source": [
        "### TODO: Add comment"
      ]
    },
    {
      "cell_type": "code",
      "execution_count": 74,
      "metadata": {
        "id": "W_6pC2SLh52a"
      },
      "outputs": [],
      "source": [
        "def save_firestore(row):\n",
        "    print('[FUNC]save_firestore') if in_debug else ''\n",
        "    print(row) if in_debug else ''\n",
        "    key = row['matricula']\n",
        "    print(key) if in_debug else ''\n",
        "    doc_ref = db_firestore.collection(firestore_actual_info).document(key)\n",
        "    doc_ref.set(row)\n",
        "    #Return row to continue with data\n",
        "    return row"
      ]
    },
    {
      "cell_type": "markdown",
      "metadata": {
        "id": "qCrdnSZpiYxA"
      },
      "source": [
        "### TODO: Add comment"
      ]
    },
    {
      "cell_type": "code",
      "execution_count": 71,
      "metadata": {
        "id": "iSoJ3GCFeffj"
      },
      "outputs": [],
      "source": [
        "def check_movements(row):\n",
        "  print('[FUNC]check_movements') if in_debug else ''\n",
        "  plate = row['matricula']\n",
        "\n",
        "  #Check if plate exist in firebase database\n",
        "  if plate not in dict_old_locations.keys():\n",
        "    print('[check_movements]New vehicle')\n",
        "    print(row)\n",
        "    #NO process\n",
        "    return row\n",
        "\n",
        "  new_latitude = row['latitud']\n",
        "  old_latitude = dict_old_locations[plate]['latitud']\n",
        "\n",
        "  new_longitude = row['longitud']\n",
        "  old_longitude = dict_old_locations[plate]['longitud']\n",
        "\n",
        "  if(new_latitude == old_latitude and new_longitude == old_longitude):\n",
        "    print('[check_movements] Son iguales') if in_debug else ''\n",
        "  else:\n",
        "    print('[check_movements] Son distintas')\n",
        "    print(new_latitude, old_latitude, new_longitude, old_longitude)\n",
        "\n",
        "  return row"
      ]
    },
    {
      "cell_type": "markdown",
      "metadata": {
        "id": "kskit1hzie8Y"
      },
      "source": [
        "### Get new information from BigQuery"
      ]
    },
    {
      "cell_type": "code",
      "execution_count": 90,
      "metadata": {
        "id": "ZjvFHAeQiktL"
      },
      "outputs": [],
      "source": [
        "\"\"\" QUERY ONLY TWO VEHICLES\n",
        "query = ' '.join((\"SELECT * FROM `vacio-276411.mainDataset.bulkData_b`\"\n",
        "        \" WHERE idVehiculo = 'ZACNJDAB0MPN19718' OR idVehiculo = '1G1BE5SM0K7113537' \",\n",
        "        \"ORDER BY realTime DESC\",\n",
        "        \"LIMIT 2\"))\n",
        "\"\"\"\n",
        "\n",
        "def update_query(last_uoid):\n",
        "  query = ' '.join((\"SELECT * FROM `vacio-276411.mainDataset.bulkData_b`\"\n",
        "          \" WHERE uoid = '\" + last_uoid +\"'\",\n",
        "          \"ORDER BY realTime DESC\"))\n",
        "  return query\n"
      ]
    },
    {
      "cell_type": "markdown",
      "metadata": {
        "id": "9HajpsvQ6-DW"
      },
      "source": [
        "### Print row"
      ]
    },
    {
      "cell_type": "code",
      "execution_count": 69,
      "metadata": {
        "id": "EoUdehcD6_sS"
      },
      "outputs": [],
      "source": [
        "def print_row(row):\n",
        "    print(row)"
      ]
    },
    {
      "cell_type": "code",
      "execution_count": 95,
      "metadata": {
        "id": "ALh-kMS8Mx8t"
      },
      "outputs": [],
      "source": [
        "from datetime import datetime\n",
        "def print_time(row):\n",
        "  now = datetime.now()\n",
        "  current_time = now.strftime(\"%H:%M:%S\")\n",
        "  print(\"Current Time =\", current_time)\n",
        "  return row"
      ]
    },
    {
      "cell_type": "markdown",
      "metadata": {
        "id": "2SUITsicibyy"
      },
      "source": [
        "### TODO: Add comment"
      ]
    },
    {
      "cell_type": "code",
      "execution_count": 111,
      "metadata": {
        "colab": {
          "base_uri": "https://localhost:8080/",
          "height": 1000
        },
        "id": "LoYMvjLAMXBB",
        "outputId": "76b498d1-ec8c-4fb2-d962-0ca1b73e3dac"
      },
      "outputs": [
        {
          "name": "stdout",
          "output_type": "stream",
          "text": [
            "Vehicles in Firestore: 619\n"
          ]
        },
        {
          "name": "stderr",
          "output_type": "stream",
          "text": [
            "WARNING:apache_beam.options.pipeline_options:Discarding unparseable args: ['-f', '/root/.local/share/jupyter/runtime/kernel-ad102a25-3134-4698-946d-4366743a6d7d.json']\n",
            "WARNING:apache_beam.options.pipeline_options:Discarding unparseable args: ['-f', '/root/.local/share/jupyter/runtime/kernel-ad102a25-3134-4698-946d-4366743a6d7d.json']\n",
            "WARNING:apache_beam.io.gcp.bigquery_tools:Dataset vacio-276411:beam_temp_dataset_8fc556f6f81a4b49ab374554be84a909 does not exist so we will create it as temporary with location=europe-west3\n"
          ]
        },
        {
          "name": "stdout",
          "output_type": "stream",
          "text": [
            "[check_movements] Son distintas\n",
            "40.464288 40.454182 -3.688986 -3.682985\n",
            "[check_movements] Son distintas\n",
            "40.458051 40.472157 -3.697244 -3.68371\n",
            "[check_movements] Son distintas\n",
            "40.461283 40.456496 -3.674118 -3.679822\n",
            "[check_movements] Son distintas\n",
            "40.489222 40.402858 -3.64807 -3.677254\n",
            "[check_movements] Son distintas\n",
            "40.438182 40.477366 -3.684801 -3.699015\n",
            "[check_movements] Son distintas\n",
            "40.449798 40.444026 -3.687211 -3.665838\n",
            "[check_movements] Son distintas\n",
            "40.42729 40.476864 -3.701186 -3.738568\n",
            "[check_movements]New vehicle\n",
            "{'city': 'Madrid', 'servicio': 'free2move', 'idVehiculo': 'VR3UHZKXZMT016708', 'matricula': '3408LNB', 'energia': 39.0, 'latitud': 40.418336, 'longitud': -3.664079, 'tipo': 'coche', 'categoria': 'Peugeot e-208', 'imagen': 'e-208-white.png', 'uoid': '9719a677-68ee-46b8-befd-1b15c62c5012', 'epochTime': 1659600000.3161585, 'realTime': '08/04/2022 08:00:00', 'geo': 'POINT(-3.664079 40.418336)', 'timestamp': datetime.datetime(2022, 8, 4, 6, 0, 0, 316159, tzinfo=datetime.timezone.utc), 'tipoVehiculo': 'coche', 'code': '0943', 'autonomyValue': 87.0, 'autonomyUnit': 'km', 'transmission': 'automatic', 'color': 'white', 'range': 'economy', 'fuel': 'electric', 'seats': 5.0, 'babySeat': False, 'boosterSeat': False, 'discounted': False, 'operatingSystemName': 'vulog', 'operationSystemFleetId': 'PSA-ESMDD', 'operationSystemVehicleDescriptionId': '4a3b24a0-ae8f-4986-8399-7e8f307b29ee'}\n",
            "[check_movements] Son distintas\n",
            "40.433472 40.423632 -3.695229 -3.669562\n",
            "[check_movements] Son distintas\n",
            "40.422371 40.470646 -3.687378 -3.673114\n",
            "[check_movements]New vehicle\n",
            "{'city': 'Madrid', 'servicio': 'free2move', 'idVehiculo': 'VR3UHZKXZLT124019', 'matricula': '2379LLV', 'energia': 31.0, 'latitud': 40.409955, 'longitud': -3.646186, 'tipo': 'coche', 'categoria': 'Peugeot e-208', 'imagen': 'e-208-white.png', 'uoid': '9719a677-68ee-46b8-befd-1b15c62c5012', 'epochTime': 1659600000.3161585, 'realTime': '08/04/2022 08:00:00', 'geo': 'POINT(-3.646186 40.409955)', 'timestamp': datetime.datetime(2022, 8, 4, 6, 0, 0, 316159, tzinfo=datetime.timezone.utc), 'tipoVehiculo': 'coche', 'code': '0861', 'autonomyValue': 63.0, 'autonomyUnit': 'km', 'transmission': 'automatic', 'color': 'white', 'range': 'economy', 'fuel': 'electric', 'seats': 5.0, 'babySeat': False, 'boosterSeat': False, 'discounted': False, 'operatingSystemName': 'vulog', 'operationSystemFleetId': 'PSA-ESMDD', 'operationSystemVehicleDescriptionId': 'b429a126-0c69-439e-8595-78ac69c22082'}\n",
            "[check_movements] Son distintas\n",
            "40.454678 40.439139 -3.700484 -3.713496\n",
            "[check_movements] Son distintas\n",
            "40.437542 40.467178 -3.711495 -3.631506\n",
            "[check_movements] Son distintas\n",
            "40.456694 40.485946 -3.694492 -3.706611\n",
            "[check_movements] Son distintas\n",
            "40.529712 40.521475 -3.648561 -3.65858\n",
            "[check_movements] Son distintas\n",
            "40.443952 40.456074 -3.666344 -3.660544\n",
            "[check_movements] Son distintas\n",
            "40.422275 40.492554 -3.673636 -3.655618\n",
            "[check_movements] Son distintas\n",
            "40.475264 40.503197 -3.688366 -3.700226\n",
            "[check_movements]New vehicle\n",
            "{'city': 'Madrid', 'servicio': 'free2move', 'idVehiculo': 'VR3UHZKXZLT123992', 'matricula': '4128LLG', 'energia': 63.0, 'latitud': 40.425338, 'longitud': -3.696265, 'tipo': 'coche', 'categoria': 'Peugeot e-208', 'imagen': 'e-208-white.png', 'uoid': '9719a677-68ee-46b8-befd-1b15c62c5012', 'epochTime': 1659600000.3161585, 'realTime': '08/04/2022 08:00:00', 'geo': 'POINT(-3.696265 40.425338)', 'timestamp': datetime.datetime(2022, 8, 4, 6, 0, 0, 316159, tzinfo=datetime.timezone.utc), 'tipoVehiculo': 'coche', 'code': '0888', 'autonomyValue': 159.0, 'autonomyUnit': 'km', 'transmission': 'automatic', 'color': 'white', 'range': 'economy', 'fuel': 'electric', 'seats': 5.0, 'babySeat': False, 'boosterSeat': False, 'discounted': False, 'operatingSystemName': 'vulog', 'operationSystemFleetId': 'PSA-ESMDD', 'operationSystemVehicleDescriptionId': 'ef75148a-10f9-4258-a717-3880712a6c29'}\n",
            "[check_movements] Son distintas\n",
            "40.430608 40.460448 -3.717606 -3.689455\n",
            "[check_movements] Son distintas\n",
            "40.422944 40.409446 -3.68715 -3.712708\n",
            "[check_movements] Son distintas\n",
            "40.428038 40.409981 -3.69182 -3.677286\n",
            "[check_movements] Son distintas\n",
            "40.495555 40.474448 -3.669316 -3.704348\n",
            "[check_movements]New vehicle\n",
            "{'city': 'Madrid', 'servicio': 'free2move', 'idVehiculo': 'VR79AZ2CAM5829886', 'matricula': 'C8246BWL', 'energia': 96.0, 'latitud': 40.425706, 'longitud': -3.671419, 'tipo': 'coche', 'categoria': 'Citroën AMI', 'imagen': 'pastille-atencion-es-ami-v-1.png', 'uoid': '9719a677-68ee-46b8-befd-1b15c62c5012', 'epochTime': 1659600000.3161585, 'realTime': '08/04/2022 08:00:00', 'geo': 'POINT(-3.671419 40.425706)', 'timestamp': datetime.datetime(2022, 8, 4, 6, 0, 0, 316159, tzinfo=datetime.timezone.utc), 'tipoVehiculo': 'coche', 'code': '1027', 'autonomyValue': 71.0, 'autonomyUnit': 'km', 'transmission': 'automatic', 'color': '', 'range': 'micro', 'fuel': 'electric', 'seats': 2.0, 'babySeat': False, 'boosterSeat': False, 'discounted': False, 'operatingSystemName': 'vulog', 'operationSystemFleetId': 'PSA-ESMDD', 'operationSystemVehicleDescriptionId': 'cf5d4faa-f628-4f0b-b89f-564e9af2a12b'}\n",
            "[check_movements]New vehicle\n",
            "{'city': 'Madrid', 'servicio': 'free2move', 'idVehiculo': 'VR3UHZKXZLT001914', 'matricula': '1154LFX', 'energia': 37.0, 'latitud': 40.451936, 'longitud': -3.674158, 'tipo': 'coche', 'categoria': 'Peugeot e-208', 'imagen': 'e-208-white.png', 'uoid': '9719a677-68ee-46b8-befd-1b15c62c5012', 'epochTime': 1659600000.3161585, 'realTime': '08/04/2022 08:00:00', 'geo': 'POINT(-3.674158 40.451936)', 'timestamp': datetime.datetime(2022, 8, 4, 6, 0, 0, 316159, tzinfo=datetime.timezone.utc), 'tipoVehiculo': 'coche', 'code': '0623', 'autonomyValue': 81.0, 'autonomyUnit': 'km', 'transmission': 'automatic', 'color': 'white', 'range': 'economy', 'fuel': 'electric', 'seats': 5.0, 'babySeat': False, 'boosterSeat': False, 'discounted': False, 'operatingSystemName': 'vulog', 'operationSystemFleetId': 'PSA-ESMDD', 'operationSystemVehicleDescriptionId': '78bd711e-3435-466e-87a2-9ba731301343'}\n",
            "[check_movements] Son distintas\n",
            "40.430477 40.445066 -3.673718 -3.696604\n",
            "[check_movements] Son distintas\n",
            "40.45961 40.429638 -3.695742 -3.641747\n",
            "[check_movements] Son distintas\n",
            "40.438109 40.426246 -3.684202 -3.697941\n",
            "[check_movements] Son distintas\n",
            "40.448147 40.403613 -3.690696 -3.68113\n",
            "[check_movements] Son distintas\n",
            "40.462746 40.450598 -3.689142 -3.708814\n",
            "[check_movements] Son distintas\n",
            "40.428198 40.393139 -3.69348 -3.692504\n",
            "[check_movements] Son distintas\n",
            "40.452832 40.452938 -3.695656 -3.706856\n",
            "[check_movements]New vehicle\n",
            "{'city': 'Madrid', 'servicio': 'free2move', 'idVehiculo': 'VR3UHZKXZMT081908', 'matricula': '4030LTH', 'energia': 48.0, 'latitud': 40.430438, 'longitud': -3.68528, 'tipo': 'coche', 'categoria': 'Peugeot e-208', 'imagen': 'e-208-white.png', 'uoid': '9719a677-68ee-46b8-befd-1b15c62c5012', 'epochTime': 1659600000.3161585, 'realTime': '08/04/2022 08:00:00', 'geo': 'POINT(-3.68528 40.430438)', 'timestamp': datetime.datetime(2022, 8, 4, 6, 0, 0, 316159, tzinfo=datetime.timezone.utc), 'tipoVehiculo': 'coche', 'code': '1116', 'autonomyValue': 114.0, 'autonomyUnit': 'km', 'transmission': 'automatic', 'color': 'white', 'range': 'economy', 'fuel': 'electric', 'seats': 5.0, 'babySeat': False, 'boosterSeat': False, 'discounted': False, 'operatingSystemName': 'vulog', 'operationSystemFleetId': 'PSA-ESMDD', 'operationSystemVehicleDescriptionId': '011e9718-0957-4331-9f29-09ae43fc6b0c'}\n",
            "[check_movements] Son distintas\n",
            "40.458349 40.438291 -3.695132 -3.694593\n",
            "[check_movements] Son distintas\n",
            "40.426854 40.401299 -3.668086 -3.668243\n",
            "[check_movements] Son distintas\n",
            "40.411347 40.40871 -3.659999 -3.665522\n",
            "[check_movements] Son distintas\n",
            "40.510483 40.459635 -3.67599 -3.694999\n",
            "[check_movements] Son distintas\n",
            "40.419587 40.439046 -3.666268 -3.661002\n",
            "[check_movements] Son distintas\n",
            "40.396634 40.468378 -3.69627 -3.698398\n",
            "[check_movements] Son distintas\n",
            "40.453914 40.424794 -3.692707 -3.695711\n",
            "[check_movements]New vehicle\n",
            "{'city': 'Madrid', 'servicio': 'free2move', 'idVehiculo': 'VR3UHZKXZMT018704', 'matricula': '1786LND', 'energia': 99.0, 'latitud': 40.415072, 'longitud': -3.670219, 'tipo': 'coche', 'categoria': 'Peugeot e-208', 'imagen': 'e-208-white.png', 'uoid': '9719a677-68ee-46b8-befd-1b15c62c5012', 'epochTime': 1659600000.3161585, 'realTime': '08/04/2022 08:00:00', 'geo': 'POINT(-3.670219 40.415072)', 'timestamp': datetime.datetime(2022, 8, 4, 6, 0, 0, 316159, tzinfo=datetime.timezone.utc), 'tipoVehiculo': 'coche', 'code': '0957', 'autonomyValue': 267.0, 'autonomyUnit': 'km', 'transmission': 'automatic', 'color': 'white', 'range': 'economy', 'fuel': 'electric', 'seats': 5.0, 'babySeat': False, 'boosterSeat': False, 'discounted': False, 'operatingSystemName': 'vulog', 'operationSystemFleetId': 'PSA-ESMDD', 'operationSystemVehicleDescriptionId': 'daf755b8-0de5-4f91-988b-6d8aaca4258c'}\n",
            "[check_movements] Son distintas\n",
            "40.44407 40.452074 -3.715203 -3.710443\n",
            "[check_movements] Son distintas\n",
            "40.428173 40.467901 -3.670653 -3.677774\n",
            "[check_movements] Son distintas\n",
            "40.415427 40.415558 -3.670772 -3.670805\n",
            "[check_movements] Son distintas\n",
            "40.430269 40.473581 -3.705518 -3.675861\n",
            "[check_movements] Son distintas\n",
            "40.445962 40.432077 -3.648678 -3.654101\n",
            "[check_movements] Son distintas\n",
            "40.452656 40.452659 -3.656105 -3.656068\n",
            "[check_movements] Son distintas\n",
            "40.41401 40.439683 -3.664552 -3.653365\n",
            "[check_movements] Son distintas\n",
            "40.461632 40.441251 -3.695589 -3.670565\n",
            "[check_movements] Son distintas\n",
            "40.439802 40.396918 -3.716802 -3.700976\n",
            "[check_movements] Son distintas\n",
            "40.453437 40.469136 -3.713055 -3.697886\n"
          ]
        },
        {
          "data": {
            "application/vnd.google.colaboratory.intrinsic+json": {
              "type": "string"
            },
            "text/plain": [
              "'gauges'"
            ]
          },
          "execution_count": 111,
          "metadata": {},
          "output_type": "execute_result"
        }
      ],
      "source": [
        "#First update old situation\n",
        "get_firestore_old_situation()\n",
        "#Get last uoid\n",
        "last_uoid =  get_last_uoid()\n",
        "#Update query with last uoid\n",
        "last_uoid = '27f342be-174a-4278-88aa-8fbb8b9ce0e6'\n",
        "last_uoid = 'a2e360d5-e5b9-4cac-8893-ac9d911a94f3'\n",
        "last_uoid = '9719a677-68ee-46b8-befd-1b15c62c5012'\n",
        "query = update_query(last_uoid)\n",
        "\n",
        "\n",
        "pipeline = beam.Pipeline(options=options)\n",
        "vehicles_location = (\n",
        "    pipeline\n",
        "    | 'QueryTable' >> beam.io.ReadFromBigQuery(query=query, use_standard_sql=True)\n",
        "    #| 'PrintTime1' >> beam.Map(print_time)\n",
        "    | \"FormatToFirestore\" >> beam.Map(prepare_to_save_in_firestore)\n",
        "    | \"SaveInFirestore\" >> beam.Map(save_firestore)\n",
        "    | \"CalculateMovements\" >> beam.Map(check_movements)\n",
        "    #| \"print\" >> beam.Map(print_row)\n",
        ")\n",
        "\n",
        "#pipeline.run()\n",
        "\n",
        "result = pipeline.run()\n",
        "metrics = result.metrics()\n",
        "metricResults = metrics.GAUGES\n",
        "metricResults\n"
      ]
    }
  ],
  "metadata": {
    "colab": {
      "collapsed_sections": [],
      "name": "Mobilidad Julio 24 - Obtencion llevado a Dataflow",
      "provenance": []
    },
    "kernelspec": {
      "display_name": "Python 3.9.7 ('base')",
      "language": "python",
      "name": "python3"
    },
    "language_info": {
      "name": "python",
      "version": "3.9.7"
    },
    "vscode": {
      "interpreter": {
        "hash": "ad2bdc8ecc057115af97d19610ffacc2b4e99fae6737bb82f5d7fb13d2f2c186"
      }
    }
  },
  "nbformat": 4,
  "nbformat_minor": 0
}
